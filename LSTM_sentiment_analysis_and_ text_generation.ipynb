{
  "cells": [
    {
      "cell_type": "markdown",
      "source": [
        "# IBM_SKILLSBUILD_NAAN_MUDHALVAN_GEN_AI_PROJECT:\n",
        "# **LSTM_Sentiment_Analysis_AirlineReviews:**\n",
        "AUTHOR:J EMMANUAL JUDE ANTONY\n",
        "\n",
        "REG.NO:211521243053"
      ],
      "metadata": {
        "id": "a3NyhSSGSmtU"
      }
    },
    {
      "cell_type": "markdown",
      "source": [
        "IMPORTING DATASET:"
      ],
      "metadata": {
        "id": "6FwSbMUKTUq9"
      }
    },
    {
      "cell_type": "code",
      "source": [
        "from google.colab import drive\n",
        "drive.mount('/content/drive')"
      ],
      "metadata": {
        "colab": {
          "base_uri": "https://localhost:8080/"
        },
        "id": "q7aPyTh4NmPB",
        "outputId": "6aa8da04-6437-4384-eb6b-66f30849bd33"
      },
      "execution_count": 1,
      "outputs": [
        {
          "output_type": "stream",
          "name": "stdout",
          "text": [
            "Mounted at /content/drive\n"
          ]
        }
      ]
    },
    {
      "cell_type": "code",
      "source": [
        "import pandas as pd\n",
        "path=\"/content/drive/MyDrive/airline_sentiment.csv\"\n",
        "df=pd.read_csv(path)\n",
        "df.head()"
      ],
      "metadata": {
        "colab": {
          "base_uri": "https://localhost:8080/",
          "height": 206
        },
        "id": "kXVxB1dxOUlj",
        "outputId": "bc9c85a3-0f70-4f30-ab1b-ccd89dd772d4"
      },
      "execution_count": 3,
      "outputs": [
        {
          "output_type": "execute_result",
          "data": {
            "text/plain": [
              "   airline_sentiment                                               text\n",
              "0                  1  @VirginAmerica plus you've added commercials t...\n",
              "1                  0  @VirginAmerica it's really aggressive to blast...\n",
              "2                  0  @VirginAmerica and it's a really big bad thing...\n",
              "3                  0  @VirginAmerica seriously would pay $30 a fligh...\n",
              "4                  1  @VirginAmerica yes, nearly every time I fly VX..."
            ],
            "text/html": [
              "\n",
              "  <div id=\"df-8edc46da-38a8-4c9d-a8b1-bf9319da16ba\" class=\"colab-df-container\">\n",
              "    <div>\n",
              "<style scoped>\n",
              "    .dataframe tbody tr th:only-of-type {\n",
              "        vertical-align: middle;\n",
              "    }\n",
              "\n",
              "    .dataframe tbody tr th {\n",
              "        vertical-align: top;\n",
              "    }\n",
              "\n",
              "    .dataframe thead th {\n",
              "        text-align: right;\n",
              "    }\n",
              "</style>\n",
              "<table border=\"1\" class=\"dataframe\">\n",
              "  <thead>\n",
              "    <tr style=\"text-align: right;\">\n",
              "      <th></th>\n",
              "      <th>airline_sentiment</th>\n",
              "      <th>text</th>\n",
              "    </tr>\n",
              "  </thead>\n",
              "  <tbody>\n",
              "    <tr>\n",
              "      <th>0</th>\n",
              "      <td>1</td>\n",
              "      <td>@VirginAmerica plus you've added commercials t...</td>\n",
              "    </tr>\n",
              "    <tr>\n",
              "      <th>1</th>\n",
              "      <td>0</td>\n",
              "      <td>@VirginAmerica it's really aggressive to blast...</td>\n",
              "    </tr>\n",
              "    <tr>\n",
              "      <th>2</th>\n",
              "      <td>0</td>\n",
              "      <td>@VirginAmerica and it's a really big bad thing...</td>\n",
              "    </tr>\n",
              "    <tr>\n",
              "      <th>3</th>\n",
              "      <td>0</td>\n",
              "      <td>@VirginAmerica seriously would pay $30 a fligh...</td>\n",
              "    </tr>\n",
              "    <tr>\n",
              "      <th>4</th>\n",
              "      <td>1</td>\n",
              "      <td>@VirginAmerica yes, nearly every time I fly VX...</td>\n",
              "    </tr>\n",
              "  </tbody>\n",
              "</table>\n",
              "</div>\n",
              "    <div class=\"colab-df-buttons\">\n",
              "\n",
              "  <div class=\"colab-df-container\">\n",
              "    <button class=\"colab-df-convert\" onclick=\"convertToInteractive('df-8edc46da-38a8-4c9d-a8b1-bf9319da16ba')\"\n",
              "            title=\"Convert this dataframe to an interactive table.\"\n",
              "            style=\"display:none;\">\n",
              "\n",
              "  <svg xmlns=\"http://www.w3.org/2000/svg\" height=\"24px\" viewBox=\"0 -960 960 960\">\n",
              "    <path d=\"M120-120v-720h720v720H120Zm60-500h600v-160H180v160Zm220 220h160v-160H400v160Zm0 220h160v-160H400v160ZM180-400h160v-160H180v160Zm440 0h160v-160H620v160ZM180-180h160v-160H180v160Zm440 0h160v-160H620v160Z\"/>\n",
              "  </svg>\n",
              "    </button>\n",
              "\n",
              "  <style>\n",
              "    .colab-df-container {\n",
              "      display:flex;\n",
              "      gap: 12px;\n",
              "    }\n",
              "\n",
              "    .colab-df-convert {\n",
              "      background-color: #E8F0FE;\n",
              "      border: none;\n",
              "      border-radius: 50%;\n",
              "      cursor: pointer;\n",
              "      display: none;\n",
              "      fill: #1967D2;\n",
              "      height: 32px;\n",
              "      padding: 0 0 0 0;\n",
              "      width: 32px;\n",
              "    }\n",
              "\n",
              "    .colab-df-convert:hover {\n",
              "      background-color: #E2EBFA;\n",
              "      box-shadow: 0px 1px 2px rgba(60, 64, 67, 0.3), 0px 1px 3px 1px rgba(60, 64, 67, 0.15);\n",
              "      fill: #174EA6;\n",
              "    }\n",
              "\n",
              "    .colab-df-buttons div {\n",
              "      margin-bottom: 4px;\n",
              "    }\n",
              "\n",
              "    [theme=dark] .colab-df-convert {\n",
              "      background-color: #3B4455;\n",
              "      fill: #D2E3FC;\n",
              "    }\n",
              "\n",
              "    [theme=dark] .colab-df-convert:hover {\n",
              "      background-color: #434B5C;\n",
              "      box-shadow: 0px 1px 3px 1px rgba(0, 0, 0, 0.15);\n",
              "      filter: drop-shadow(0px 1px 2px rgba(0, 0, 0, 0.3));\n",
              "      fill: #FFFFFF;\n",
              "    }\n",
              "  </style>\n",
              "\n",
              "    <script>\n",
              "      const buttonEl =\n",
              "        document.querySelector('#df-8edc46da-38a8-4c9d-a8b1-bf9319da16ba button.colab-df-convert');\n",
              "      buttonEl.style.display =\n",
              "        google.colab.kernel.accessAllowed ? 'block' : 'none';\n",
              "\n",
              "      async function convertToInteractive(key) {\n",
              "        const element = document.querySelector('#df-8edc46da-38a8-4c9d-a8b1-bf9319da16ba');\n",
              "        const dataTable =\n",
              "          await google.colab.kernel.invokeFunction('convertToInteractive',\n",
              "                                                    [key], {});\n",
              "        if (!dataTable) return;\n",
              "\n",
              "        const docLinkHtml = 'Like what you see? Visit the ' +\n",
              "          '<a target=\"_blank\" href=https://colab.research.google.com/notebooks/data_table.ipynb>data table notebook</a>'\n",
              "          + ' to learn more about interactive tables.';\n",
              "        element.innerHTML = '';\n",
              "        dataTable['output_type'] = 'display_data';\n",
              "        await google.colab.output.renderOutput(dataTable, element);\n",
              "        const docLink = document.createElement('div');\n",
              "        docLink.innerHTML = docLinkHtml;\n",
              "        element.appendChild(docLink);\n",
              "      }\n",
              "    </script>\n",
              "  </div>\n",
              "\n",
              "\n",
              "<div id=\"df-3f1e0a3c-18af-4f5d-b767-96278d0512d8\">\n",
              "  <button class=\"colab-df-quickchart\" onclick=\"quickchart('df-3f1e0a3c-18af-4f5d-b767-96278d0512d8')\"\n",
              "            title=\"Suggest charts\"\n",
              "            style=\"display:none;\">\n",
              "\n",
              "<svg xmlns=\"http://www.w3.org/2000/svg\" height=\"24px\"viewBox=\"0 0 24 24\"\n",
              "     width=\"24px\">\n",
              "    <g>\n",
              "        <path d=\"M19 3H5c-1.1 0-2 .9-2 2v14c0 1.1.9 2 2 2h14c1.1 0 2-.9 2-2V5c0-1.1-.9-2-2-2zM9 17H7v-7h2v7zm4 0h-2V7h2v10zm4 0h-2v-4h2v4z\"/>\n",
              "    </g>\n",
              "</svg>\n",
              "  </button>\n",
              "\n",
              "<style>\n",
              "  .colab-df-quickchart {\n",
              "      --bg-color: #E8F0FE;\n",
              "      --fill-color: #1967D2;\n",
              "      --hover-bg-color: #E2EBFA;\n",
              "      --hover-fill-color: #174EA6;\n",
              "      --disabled-fill-color: #AAA;\n",
              "      --disabled-bg-color: #DDD;\n",
              "  }\n",
              "\n",
              "  [theme=dark] .colab-df-quickchart {\n",
              "      --bg-color: #3B4455;\n",
              "      --fill-color: #D2E3FC;\n",
              "      --hover-bg-color: #434B5C;\n",
              "      --hover-fill-color: #FFFFFF;\n",
              "      --disabled-bg-color: #3B4455;\n",
              "      --disabled-fill-color: #666;\n",
              "  }\n",
              "\n",
              "  .colab-df-quickchart {\n",
              "    background-color: var(--bg-color);\n",
              "    border: none;\n",
              "    border-radius: 50%;\n",
              "    cursor: pointer;\n",
              "    display: none;\n",
              "    fill: var(--fill-color);\n",
              "    height: 32px;\n",
              "    padding: 0;\n",
              "    width: 32px;\n",
              "  }\n",
              "\n",
              "  .colab-df-quickchart:hover {\n",
              "    background-color: var(--hover-bg-color);\n",
              "    box-shadow: 0 1px 2px rgba(60, 64, 67, 0.3), 0 1px 3px 1px rgba(60, 64, 67, 0.15);\n",
              "    fill: var(--button-hover-fill-color);\n",
              "  }\n",
              "\n",
              "  .colab-df-quickchart-complete:disabled,\n",
              "  .colab-df-quickchart-complete:disabled:hover {\n",
              "    background-color: var(--disabled-bg-color);\n",
              "    fill: var(--disabled-fill-color);\n",
              "    box-shadow: none;\n",
              "  }\n",
              "\n",
              "  .colab-df-spinner {\n",
              "    border: 2px solid var(--fill-color);\n",
              "    border-color: transparent;\n",
              "    border-bottom-color: var(--fill-color);\n",
              "    animation:\n",
              "      spin 1s steps(1) infinite;\n",
              "  }\n",
              "\n",
              "  @keyframes spin {\n",
              "    0% {\n",
              "      border-color: transparent;\n",
              "      border-bottom-color: var(--fill-color);\n",
              "      border-left-color: var(--fill-color);\n",
              "    }\n",
              "    20% {\n",
              "      border-color: transparent;\n",
              "      border-left-color: var(--fill-color);\n",
              "      border-top-color: var(--fill-color);\n",
              "    }\n",
              "    30% {\n",
              "      border-color: transparent;\n",
              "      border-left-color: var(--fill-color);\n",
              "      border-top-color: var(--fill-color);\n",
              "      border-right-color: var(--fill-color);\n",
              "    }\n",
              "    40% {\n",
              "      border-color: transparent;\n",
              "      border-right-color: var(--fill-color);\n",
              "      border-top-color: var(--fill-color);\n",
              "    }\n",
              "    60% {\n",
              "      border-color: transparent;\n",
              "      border-right-color: var(--fill-color);\n",
              "    }\n",
              "    80% {\n",
              "      border-color: transparent;\n",
              "      border-right-color: var(--fill-color);\n",
              "      border-bottom-color: var(--fill-color);\n",
              "    }\n",
              "    90% {\n",
              "      border-color: transparent;\n",
              "      border-bottom-color: var(--fill-color);\n",
              "    }\n",
              "  }\n",
              "</style>\n",
              "\n",
              "  <script>\n",
              "    async function quickchart(key) {\n",
              "      const quickchartButtonEl =\n",
              "        document.querySelector('#' + key + ' button');\n",
              "      quickchartButtonEl.disabled = true;  // To prevent multiple clicks.\n",
              "      quickchartButtonEl.classList.add('colab-df-spinner');\n",
              "      try {\n",
              "        const charts = await google.colab.kernel.invokeFunction(\n",
              "            'suggestCharts', [key], {});\n",
              "      } catch (error) {\n",
              "        console.error('Error during call to suggestCharts:', error);\n",
              "      }\n",
              "      quickchartButtonEl.classList.remove('colab-df-spinner');\n",
              "      quickchartButtonEl.classList.add('colab-df-quickchart-complete');\n",
              "    }\n",
              "    (() => {\n",
              "      let quickchartButtonEl =\n",
              "        document.querySelector('#df-3f1e0a3c-18af-4f5d-b767-96278d0512d8 button');\n",
              "      quickchartButtonEl.style.display =\n",
              "        google.colab.kernel.accessAllowed ? 'block' : 'none';\n",
              "    })();\n",
              "  </script>\n",
              "</div>\n",
              "\n",
              "    </div>\n",
              "  </div>\n"
            ],
            "application/vnd.google.colaboratory.intrinsic+json": {
              "type": "dataframe",
              "variable_name": "df",
              "summary": "{\n  \"name\": \"df\",\n  \"rows\": 11541,\n  \"fields\": [\n    {\n      \"column\": \"airline_sentiment\",\n      \"properties\": {\n        \"dtype\": \"number\",\n        \"std\": 0,\n        \"min\": 0,\n        \"max\": 1,\n        \"num_unique_values\": 2,\n        \"samples\": [\n          0,\n          1\n        ],\n        \"semantic_type\": \"\",\n        \"description\": \"\"\n      }\n    },\n    {\n      \"column\": \"text\",\n      \"properties\": {\n        \"dtype\": \"string\",\n        \"num_unique_values\": 11381,\n        \"samples\": [\n          \"@JetBlue are yall going bankrupt or is inflation just really bad these days? You went from $50 to $120 for overweight fees! Outrageous\",\n          \"@USAirways DeeDee and Lynn S. have been great here in PHX; Richard P. here was a jerk. Rude to us and our parents for no reason.\"\n        ],\n        \"semantic_type\": \"\",\n        \"description\": \"\"\n      }\n    }\n  ]\n}"
            }
          },
          "metadata": {},
          "execution_count": 3
        }
      ]
    },
    {
      "cell_type": "markdown",
      "source": [
        "IMPORTING LIBRARIES:"
      ],
      "metadata": {
        "id": "iT8cn5D-Th7s"
      }
    },
    {
      "cell_type": "code",
      "source": [
        "# ignore warnings\n",
        "import warnings\n",
        "warnings.filterwarnings('ignore')"
      ],
      "metadata": {
        "id": "CCZ3UhXQTsFk"
      },
      "execution_count": 4,
      "outputs": []
    },
    {
      "cell_type": "code",
      "source": [
        "pip install projectpro"
      ],
      "metadata": {
        "colab": {
          "base_uri": "https://localhost:8080/"
        },
        "id": "P3Z0xazfUz8x",
        "outputId": "104c21d0-9e1e-44e1-f576-29e78ac7fefd"
      },
      "execution_count": 5,
      "outputs": [
        {
          "output_type": "stream",
          "name": "stdout",
          "text": [
            "Collecting projectpro\n",
            "  Downloading projectpro-0.0.30-py3-none-any.whl (8.1 kB)\n",
            "Requirement already satisfied: requests in /usr/local/lib/python3.10/dist-packages (from projectpro) (2.31.0)\n",
            "Requirement already satisfied: geocoder in /usr/local/lib/python3.10/dist-packages (from projectpro) (1.38.1)\n",
            "Requirement already satisfied: click in /usr/local/lib/python3.10/dist-packages (from geocoder->projectpro) (8.1.7)\n",
            "Requirement already satisfied: future in /usr/local/lib/python3.10/dist-packages (from geocoder->projectpro) (0.18.3)\n",
            "Requirement already satisfied: ratelim in /usr/local/lib/python3.10/dist-packages (from geocoder->projectpro) (0.1.6)\n",
            "Requirement already satisfied: six in /usr/local/lib/python3.10/dist-packages (from geocoder->projectpro) (1.16.0)\n",
            "Requirement already satisfied: charset-normalizer<4,>=2 in /usr/local/lib/python3.10/dist-packages (from requests->projectpro) (3.3.2)\n",
            "Requirement already satisfied: idna<4,>=2.5 in /usr/local/lib/python3.10/dist-packages (from requests->projectpro) (3.6)\n",
            "Requirement already satisfied: urllib3<3,>=1.21.1 in /usr/local/lib/python3.10/dist-packages (from requests->projectpro) (2.0.7)\n",
            "Requirement already satisfied: certifi>=2017.4.17 in /usr/local/lib/python3.10/dist-packages (from requests->projectpro) (2024.2.2)\n",
            "Requirement already satisfied: decorator in /usr/local/lib/python3.10/dist-packages (from ratelim->geocoder->projectpro) (4.4.2)\n",
            "Installing collected packages: projectpro\n",
            "Successfully installed projectpro-0.0.30\n"
          ]
        }
      ]
    },
    {
      "cell_type": "code",
      "source": [
        "# Import relevant packages\n",
        "import os\n",
        "from collections import Counter\n",
        "\n",
        "import tensorflow as tf\n",
        "from keras.layers import Dense, Activation\n",
        "from keras.layers import SimpleRNN, LSTM, GRU\n",
        "from keras.models import Sequential\n",
        "from keras.utils import to_categorical, pad_sequences\n",
        "from keras.layers import Embedding\n",
        "\n",
        "import matplotlib.pyplot as plt\n",
        "import matplotlib.ticker as mtick\n",
        "import pandas as pd\n",
        "import numpy as np\n",
        "import nltk\n",
        "import re\n",
        "from projectpro import save_point, checkpoint\n",
        "\n",
        "from sklearn.model_selection import train_test_split\n",
        "from nltk.corpus import stopwords"
      ],
      "metadata": {
        "id": "cWShy0OVUF4T"
      },
      "execution_count": 6,
      "outputs": []
    },
    {
      "cell_type": "code",
      "source": [
        "pd.set_option('display.max_colwidth', None)\n",
        "tf.keras.backend.set_image_data_format(\"channels_last\")\n",
        "nltk.download('stopwords')"
      ],
      "metadata": {
        "colab": {
          "base_uri": "https://localhost:8080/"
        },
        "id": "JLkOoUbLU7aa",
        "outputId": "3179082f-044b-49e3-baf9-4b65b0f1037d"
      },
      "execution_count": 7,
      "outputs": [
        {
          "output_type": "stream",
          "name": "stderr",
          "text": [
            "[nltk_data] Downloading package stopwords to /root/nltk_data...\n",
            "[nltk_data]   Unzipping corpora/stopwords.zip.\n"
          ]
        },
        {
          "output_type": "execute_result",
          "data": {
            "text/plain": [
              "True"
            ]
          },
          "metadata": {},
          "execution_count": 7
        }
      ]
    },
    {
      "cell_type": "markdown",
      "source": [
        "CREATING PROCESS DATASET:"
      ],
      "metadata": {
        "id": "qnzUVBUrWyD_"
      }
    },
    {
      "cell_type": "code",
      "source": [
        "import nltk\n",
        "import re\n",
        "from collections import Counter\n",
        "from nltk.corpus import stopwords\n",
        "from keras.utils import pad_sequences\n",
        "import numpy as np\n",
        "\n",
        "# Download the stopwords data from NLTK\n",
        "nltk.download('stopwords')\n",
        "\n",
        "# Get a list of English stopwords\n",
        "stop = stopwords.words('english')\n",
        "\n",
        "# Function to preprocess text data\n",
        "def pre_process_text_data(text):\n",
        "    # Normalize and remove special characters\n",
        "    text = text.lower()\n",
        "    text = re.sub('[^0-9a-zA-Z]+', ' ', text)\n",
        "\n",
        "    # Remove stopwords\n",
        "    words = text.split()\n",
        "    words = [w for w in words if w not in stop]\n",
        "    words = ' '.join(words)\n",
        "\n",
        "    return words\n",
        "\n",
        "# Function to preprocess and tokenize text data in a DataFrame\n",
        "def process_data(df):\n",
        "    # Preprocess text data in the DataFrame\n",
        "    df['text'] = df['text'].apply(pre_process_text_data)\n",
        "\n",
        "    # Count words in the preprocessed text\n",
        "    counts = Counter()\n",
        "    for i, review in enumerate(df['text']):\n",
        "        counts.update(review.split())\n",
        "\n",
        "    words = sorted(counts, key=counts.get, reverse=True)\n",
        "\n",
        "    return df, words\n",
        "\n",
        "# Function to convert text to a list of integers based on a word-to-int mapping\n",
        "def text_to_int(text, word_to_int):\n",
        "    return [word_to_int[word] for word in text.split()]\n",
        "\n",
        "# Function to convert a list of integers back to text\n",
        "def int_to_text(int_arr, int_to_word):\n",
        "    return ' '.join([int_to_word[index] for index in int_arr if index != 0])\n",
        "\n",
        "# Function to map reviews to sequences of integers\n",
        "def map_reviews(df, word_to_int):\n",
        "    mapped_reviews = []\n",
        "    for review in df['text']:\n",
        "        mapped_reviews.append(text_to_int(review, word_to_int))\n",
        "\n",
        "    return mapped_reviews\n",
        "\n",
        "# Function to get the maximum sequence length among mapped reviews\n",
        "def get_sequence_length(mapped_reviews):\n",
        "    length_sent = [len(review) for review in mapped_reviews]\n",
        "    sequence_length = max(length_sent)\n",
        "\n",
        "    return sequence_length\n",
        "\n",
        "# Function to pad and encode mapped reviews\n",
        "def pad_and_encode(mapped_reviews, sequence_length):\n",
        "    X = pad_sequences(maxlen=sequence_length, sequences=mapped_reviews, padding=\"post\", value=0)\n",
        "\n",
        "    return X\n",
        "\n",
        "# Function to process sentiment data, returning X (padded and encoded reviews), y (sentiment labels),\n",
        "# word-to-int and int-to-word mappings\n",
        "def process_sentiment_data(df):\n",
        "    df, words = process_data(df)\n",
        "\n",
        "    # Create word-to-int and int-to-word mappings\n",
        "    word_to_int = {word: i for i, word in enumerate(words, start=1)}\n",
        "    int_to_word = {i: word for i, word in enumerate(words, start=1)}\n",
        "\n",
        "    # Map reviews to sequences of integers\n",
        "    mapped_reviews = map_reviews(df, word_to_int)\n",
        "\n",
        "    # Get the maximum sequence length among mapped reviews\n",
        "    sequence_length = get_sequence_length(mapped_reviews)\n",
        "\n",
        "    # Pad and encode the mapped reviews\n",
        "    X = pad_and_encode(mapped_reviews, sequence_length)\n",
        "\n",
        "    # Get sentiment labels\n",
        "    y = df['airline_sentiment'].values\n",
        "\n",
        "    return X, y, word_to_int, int_to_word\n",
        "\n",
        "# Additional functions for text generation\n",
        "\n",
        "# Function to preprocess text for text generation\n",
        "def pre_process(text: str) -> str:\n",
        "    text = text.lower()\n",
        "    text = re.sub('[^0-9a-zA-Z]+', ' ', text)\n",
        "    return text\n",
        "\n",
        "# Function to get input and label words for text generation\n",
        "def get_input_and_labels(text: str, seq_length: int = 10, step: int = 1):\n",
        "    input_words = []\n",
        "    label_words = []\n",
        "\n",
        "    text_arr = text.split()\n",
        "\n",
        "    for i in range(0, len(text_arr) - seq_length, step):\n",
        "        x = text_arr[i : (i + seq_length)]\n",
        "        y = text_arr[i + seq_length]\n",
        "        input_words.append(x)\n",
        "        label_words.append(y)\n",
        "\n",
        "    return input_words, label_words\n",
        "\n",
        "# Function to process text data for text generation, returning X (input words) and y (label words)\n",
        "def process_text_generation_data(text: str, seq_length: int = 10):\n",
        "    processed_text = pre_process(text)\n",
        "    input_words, label_words = get_input_and_labels(processed_text, seq_length=seq_length)\n",
        "\n",
        "    counts = Counter()\n",
        "    counts.update(processed_text.split())\n",
        "    words = sorted(counts, key=counts.get, reverse=True)\n",
        "    nb_words = len(processed_text.split())\n",
        "\n",
        "    word2index = {word: i for i, word in enumerate(words)}\n",
        "    index2word = {i: word for i, word in enumerate(words)}\n",
        "\n",
        "    total_words = len(set(words))\n",
        "\n",
        "    # Create input and label arrays for text generation\n",
        "    X = np.zeros((len(input_words), seq_length, total_words), dtype=bool)\n",
        "    y = np.zeros((len(input_words), total_words), dtype=bool)\n",
        "\n",
        "    for i, input_word in enumerate(input_words):\n",
        "        for j, word in enumerate(input_word):\n",
        "            X[i, j, word2index[word]] = 1\n",
        "        y[i, word2index[label_words[i]]] = 1\n",
        "\n",
        "    return X, y, words, nb_words, total_words, word2index, index2word, input_words"
      ],
      "metadata": {
        "colab": {
          "base_uri": "https://localhost:8080/"
        },
        "id": "rWgthdedW48L",
        "outputId": "c718f0b5-b354-425a-8e75-cf8ba92f8fbd"
      },
      "execution_count": 8,
      "outputs": [
        {
          "output_type": "stream",
          "name": "stderr",
          "text": [
            "[nltk_data] Downloading package stopwords to /root/nltk_data...\n",
            "[nltk_data]   Package stopwords is already up-to-date!\n"
          ]
        }
      ]
    },
    {
      "cell_type": "markdown",
      "source": [
        "TRAINING DATASET CREATION:"
      ],
      "metadata": {
        "id": "cLRD70fUXmHk"
      }
    },
    {
      "cell_type": "code",
      "source": [
        "import os\n",
        "from collections import Counter\n",
        "import tensorflow as tf\n",
        "from keras.layers import Dense, Activation, SimpleRNN, LSTM, GRU\n",
        "from keras.models import Sequential\n",
        "from keras.utils import to_categorical, pad_sequences\n",
        "from keras.layers import Embedding\n",
        "import matplotlib.pyplot as plt\n",
        "import matplotlib.ticker as mtick\n",
        "import pandas as pd\n",
        "import numpy as np\n",
        "import nltk\n",
        "import re\n",
        "from sklearn.model_selection import train_test_split\n",
        "from nltk.corpus import stopwords\n",
        "\n",
        "# Set display options for Pandas\n",
        "pd.set_option('display.max_colwidth', None)\n",
        "\n",
        "# Set the image data format for TensorFlow\n",
        "tf.keras.backend.set_image_data_format(\"channels_last\")\n",
        "\n",
        "# Download the stopwords data from NLTK\n",
        "nltk.download('stopwords')\n",
        "\n",
        "# Import necessary modules for the text generation part\n",
        "from keras.models import Sequential\n",
        "from keras.layers import Embedding, LSTM, Dense\n",
        "from keras.utils import to_categorical\n",
        "from sklearn.model_selection import train_test_split\n",
        "\n",
        "# Function to train a sentiment analysis LSTM model\n",
        "def train_sentiment_lstm(X_train, y_train, X_test, y_test, word_to_int, embedding_dim=32, lstm_units=40, epochs=50, batch_size=32):\n",
        "    # Create the LSTM model\n",
        "    model = Sequential()\n",
        "    model.add(Embedding(input_dim=len(word_to_int) + 1, output_dim=embedding_dim, input_length=X_train.shape[1]))\n",
        "    model.add(LSTM(units=lstm_units, return_sequences=True))\n",
        "    model.add(LSTM(units=lstm_units, return_sequences=False))\n",
        "    model.add(Dense(units=2, activation='softmax'))\n",
        "\n",
        "    # Compile the model\n",
        "    model.compile(loss='categorical_crossentropy', optimizer='adam', metrics=['accuracy'])\n",
        "\n",
        "    # Print model summary\n",
        "    print(model.summary())\n",
        "\n",
        "    # Train the model\n",
        "    history = model.fit(X_train, y_train, validation_data=(X_test, y_test), epochs=epochs, batch_size=batch_size)\n",
        "\n",
        "    # Print training history\n",
        "    print('Training Loss:', history.history['loss'])\n",
        "    print('Validation Loss:', history.history['val_loss'])\n",
        "    print('Training Accuracy:', history.history['accuracy'])\n",
        "    print('Validation Accuracy:', history.history['val_accuracy'])\n",
        "\n",
        "    # Save the model\n",
        "    model.save('output/sentiment_model.h5')\n",
        "    return model\n",
        "\n",
        "# Constants for text generation\n",
        "SEQLEN = 10\n",
        "STEP = 1\n",
        "\n",
        "# Function to create a text generation model\n",
        "def create_text_generation_model(hidden_size, seq_length, total_words):\n",
        "    model = Sequential()\n",
        "    model.add(LSTM(hidden_size, return_sequences=False, input_shape=(seq_length, total_words)))\n",
        "    model.add(Dense(total_words, activation='softmax'))\n",
        "    model.compile(optimizer='adam', loss='categorical_crossentropy')\n",
        "    return model\n",
        "\n",
        "# Constants for text generation\n",
        "BATCH_SIZE = 32\n",
        "NUM_ITERATIONS = 100\n",
        "NUM_EPOCHS_PER_ITERATION = 1\n",
        "NUM_PREDS_PER_EPOCH = 100\n",
        "\n",
        "# Function to check model output during text generation\n",
        "def check_model_output(model, preds: int, input_words, seq_length, total_words, word2index, index2word):\n",
        "    test_idx = np.random.randint(int(len(input_words) * 0.1)) * (-1)\n",
        "    test_words = input_words[test_idx]\n",
        "\n",
        "    for curr_pred in range(preds):\n",
        "        curr_embedding = np.zeros((1, seq_length, total_words))\n",
        "\n",
        "        for i, ch in enumerate(test_words):\n",
        "            curr_embedding[0, i, word2index[ch]] = 1\n",
        "\n",
        "        pred = model.predict(curr_embedding, verbose=0)[0]\n",
        "        word_pred = index2word[np.argmax(pred)]\n",
        "\n",
        "        print(\"=\" * 50)\n",
        "        print(f\"Prediction {curr_pred + 1} of {preds}\")\n",
        "        print(f'Generating from seed: {\" \".join(test_words)}\\nNext Word: {word_pred}')\n",
        "        print(\"=\" * 50)\n",
        "\n",
        "        test_words = test_words[1:] + [word_pred]\n",
        "\n",
        "# Function to train a text generation model\n",
        "def train_text_generation_model(X, y, input_words, seq_length, total_words, model, word2index, index2word):\n",
        "\n",
        "    for iteration in range(NUM_ITERATIONS):\n",
        "        model.fit(X, y, batch_size=BATCH_SIZE, epochs=NUM_EPOCHS_PER_ITERATION, validation_split=0.1)\n",
        "        if iteration % 10 == 0:\n",
        "            check_model_output(model, 5, input_words, seq_length, total_words, word2index, index2word)\n",
        "\n",
        "    # Save the trained model\n",
        "    model.save('output/text_gen_model.h5')\n",
        "    return model\n",
        "\n",
        "# Function to predict the next word during text generation\n",
        "def predict_next_word(model, input_text: str, seq_length, total_words, word2index, index2word, temperature=None):\n",
        "    curr_embedding = np.zeros((1, seq_length, total_words))\n",
        "\n",
        "    for i, ch in enumerate(input_text):\n",
        "        curr_embedding[0, i, word2index[ch]] = 1\n",
        "\n",
        "    pred = model.predict(curr_embedding, verbose=0)[0]\n",
        "\n",
        "    if temperature == None:\n",
        "        word_pred = index2word[np.argmax(pred)]\n",
        "    else:\n",
        "        next_word_token = tf.random.categorical(tf.expand_dims(pred / temperature, 0), num_samples=1)[-1, 0].numpy()\n",
        "        word_pred = index2word[next_word_token]\n",
        "\n",
        "    return pred, word_pred\n",
        "\n",
        "# Function to generate a paragraph of text\n",
        "def generate_paragraph(model, seed, words: int, temperature: int, total_words, word2index, index2word):\n",
        "    full_text = seed.copy()\n",
        "    for _ in range(words):\n",
        "        logits, word_pred = predict_next_word(model, seed, SEQLEN, total_words, word2index, index2word, temperature=temperature)\n",
        "        seed = (seed + [word_pred])[-10:]\n",
        "        full_text = full_text + [word_pred]\n",
        "    return full_text"
      ],
      "metadata": {
        "colab": {
          "base_uri": "https://localhost:8080/"
        },
        "id": "1Tn_5mLYXuY5",
        "outputId": "586a0186-c3dd-4af5-a413-3b326361b474"
      },
      "execution_count": 9,
      "outputs": [
        {
          "output_type": "stream",
          "name": "stderr",
          "text": [
            "[nltk_data] Downloading package stopwords to /root/nltk_data...\n",
            "[nltk_data]   Package stopwords is already up-to-date!\n"
          ]
        }
      ]
    },
    {
      "cell_type": "markdown",
      "source": [
        "UTILITIES:"
      ],
      "metadata": {
        "id": "0iUeckQDYD-T"
      }
    },
    {
      "cell_type": "code",
      "source": [
        "from collections import Counter\n",
        "\n",
        "# Function to convert text to a list of integers based on a word-to-int mapping\n",
        "def text_to_int(text: str, word_to_int: dict):\n",
        "    return [word_to_int[word] for word in text.split()]\n",
        "\n",
        "# Function to convert a list of integers back to text\n",
        "def int_to_text(int_arr, int_to_word: dict):\n",
        "    return ' '.join([int_to_word[index] for index in int_arr if index != 0])\n",
        "\n",
        "import numpy as np\n",
        "from keras.utils import to_categorical, pad_sequences\n",
        "from keras.models import load_model\n",
        "\n",
        "import numpy as np\n",
        "\n",
        "# Function to get sentiment for a given text using a trained model\n",
        "def get_sentiment(model, text, word_to_int, int_to_word, sequence_length):\n",
        "    text_int_embedding = text_to_int(text, word_to_int)\n",
        "    text_int_embedding = pad_sequences(maxlen=sequence_length, sequences=[text_int_embedding], padding=\"post\", value=0)\n",
        "    sentiment_index = np.argmax(model.predict(text_int_embedding))\n",
        "    return sentiment_index\n",
        "\n",
        "# Function to get predicted sentiments for a list of text embeddings\n",
        "def get_predicted_sentiments(model, X_test, int_to_word):\n",
        "    result = np.argmax(model.predict(X_test), axis=1)\n",
        "    positive_sentences = [int_to_text(embedding, int_to_word) for i, embedding in enumerate(X_test) if result[i] == 1]\n",
        "    negative_sentences = [int_to_text(embedding, int_to_word) for i, embedding in enumerate(X_test) if result[i] == 0]\n",
        "    return positive_sentences, negative_sentences\n",
        "\n",
        "# Function to load text data from a file (default filename is 'data/alice.txt')\n",
        "def load_data(filename: str = 'data/alice.txt'):\n",
        "    with open(filename, encoding='utf-8-sig') as fin:\n",
        "        lines = []\n",
        "        for line in fin:\n",
        "            line = line.strip().lower()\n",
        "            if len(line) == 0:\n",
        "                continue\n",
        "            lines.append(line)\n",
        "        fin.close()\n",
        "        text = \" \".join(lines)\n",
        "    return text"
      ],
      "metadata": {
        "id": "kYYfiGIyYIx3"
      },
      "execution_count": null,
      "outputs": []
    },
    {
      "cell_type": "markdown",
      "source": [
        "**DATA PREPROCESSING:**"
      ],
      "metadata": {
        "id": "F_3ORBKDWPQ6"
      }
    },
    {
      "cell_type": "markdown",
      "source": [
        "Removing Stop Words:"
      ],
      "metadata": {
        "id": "LMOLmauQVaX6"
      }
    },
    {
      "cell_type": "code",
      "source": [
        "stop = nltk.corpus.stopwords.words('english')"
      ],
      "metadata": {
        "id": "ruHjUtsHVk7I"
      },
      "execution_count": null,
      "outputs": []
    },
    {
      "cell_type": "code",
      "source": [
        "def pre_process_text_data(text: str) -> str:\n",
        "    # Convert the text to lowercase\n",
        "    text = text.lower()\n",
        "\n",
        "    # Remove special characters and symbols using a regular expression\n",
        "    text = re.sub('[^0-9a-zA-Z]+', ' ', text)\n",
        "\n",
        "    # Tokenize the text into words\n",
        "    words = text.split()\n",
        "\n",
        "    # Filter out stopwords (common words that may not contribute much to the text's meaning)\n",
        "    words = [w for w in words if (w not in stop)]\n",
        "\n",
        "    # Rejoin the filtered words to form a preprocessed text\n",
        "    words = ' '.join(words)\n",
        "\n",
        "    return words"
      ],
      "metadata": {
        "id": "R8n66tieVqhL"
      },
      "execution_count": null,
      "outputs": []
    },
    {
      "cell_type": "code",
      "source": [
        "df['text'] = df['text'].apply(pre_process_text_data)\n",
        "df.head()"
      ],
      "metadata": {
        "colab": {
          "base_uri": "https://localhost:8080/",
          "height": 206
        },
        "id": "z4Z-NVq7Vu74",
        "outputId": "ec66c78f-3620-4806-cf0d-f58e2c1da6da"
      },
      "execution_count": null,
      "outputs": [
        {
          "output_type": "execute_result",
          "data": {
            "text/plain": [
              "   airline_sentiment  \\\n",
              "0                  1   \n",
              "1                  0   \n",
              "2                  0   \n",
              "3                  0   \n",
              "4                  1   \n",
              "\n",
              "                                                                                             text  \n",
              "0                                           virginamerica plus added commercials experience tacky  \n",
              "1  virginamerica really aggressive blast obnoxious entertainment guests faces amp little recourse  \n",
              "2                                                              virginamerica really big bad thing  \n",
              "3            virginamerica seriously would pay 30 flight seats playing really bad thing flying va  \n",
              "4                                     virginamerica yes nearly every time fly vx ear worm go away  "
            ],
            "text/html": [
              "\n",
              "  <div id=\"df-ddd21b2e-032f-474a-a01b-98d86adc4059\" class=\"colab-df-container\">\n",
              "    <div>\n",
              "<style scoped>\n",
              "    .dataframe tbody tr th:only-of-type {\n",
              "        vertical-align: middle;\n",
              "    }\n",
              "\n",
              "    .dataframe tbody tr th {\n",
              "        vertical-align: top;\n",
              "    }\n",
              "\n",
              "    .dataframe thead th {\n",
              "        text-align: right;\n",
              "    }\n",
              "</style>\n",
              "<table border=\"1\" class=\"dataframe\">\n",
              "  <thead>\n",
              "    <tr style=\"text-align: right;\">\n",
              "      <th></th>\n",
              "      <th>airline_sentiment</th>\n",
              "      <th>text</th>\n",
              "    </tr>\n",
              "  </thead>\n",
              "  <tbody>\n",
              "    <tr>\n",
              "      <th>0</th>\n",
              "      <td>1</td>\n",
              "      <td>virginamerica plus added commercials experience tacky</td>\n",
              "    </tr>\n",
              "    <tr>\n",
              "      <th>1</th>\n",
              "      <td>0</td>\n",
              "      <td>virginamerica really aggressive blast obnoxious entertainment guests faces amp little recourse</td>\n",
              "    </tr>\n",
              "    <tr>\n",
              "      <th>2</th>\n",
              "      <td>0</td>\n",
              "      <td>virginamerica really big bad thing</td>\n",
              "    </tr>\n",
              "    <tr>\n",
              "      <th>3</th>\n",
              "      <td>0</td>\n",
              "      <td>virginamerica seriously would pay 30 flight seats playing really bad thing flying va</td>\n",
              "    </tr>\n",
              "    <tr>\n",
              "      <th>4</th>\n",
              "      <td>1</td>\n",
              "      <td>virginamerica yes nearly every time fly vx ear worm go away</td>\n",
              "    </tr>\n",
              "  </tbody>\n",
              "</table>\n",
              "</div>\n",
              "    <div class=\"colab-df-buttons\">\n",
              "\n",
              "  <div class=\"colab-df-container\">\n",
              "    <button class=\"colab-df-convert\" onclick=\"convertToInteractive('df-ddd21b2e-032f-474a-a01b-98d86adc4059')\"\n",
              "            title=\"Convert this dataframe to an interactive table.\"\n",
              "            style=\"display:none;\">\n",
              "\n",
              "  <svg xmlns=\"http://www.w3.org/2000/svg\" height=\"24px\" viewBox=\"0 -960 960 960\">\n",
              "    <path d=\"M120-120v-720h720v720H120Zm60-500h600v-160H180v160Zm220 220h160v-160H400v160Zm0 220h160v-160H400v160ZM180-400h160v-160H180v160Zm440 0h160v-160H620v160ZM180-180h160v-160H180v160Zm440 0h160v-160H620v160Z\"/>\n",
              "  </svg>\n",
              "    </button>\n",
              "\n",
              "  <style>\n",
              "    .colab-df-container {\n",
              "      display:flex;\n",
              "      gap: 12px;\n",
              "    }\n",
              "\n",
              "    .colab-df-convert {\n",
              "      background-color: #E8F0FE;\n",
              "      border: none;\n",
              "      border-radius: 50%;\n",
              "      cursor: pointer;\n",
              "      display: none;\n",
              "      fill: #1967D2;\n",
              "      height: 32px;\n",
              "      padding: 0 0 0 0;\n",
              "      width: 32px;\n",
              "    }\n",
              "\n",
              "    .colab-df-convert:hover {\n",
              "      background-color: #E2EBFA;\n",
              "      box-shadow: 0px 1px 2px rgba(60, 64, 67, 0.3), 0px 1px 3px 1px rgba(60, 64, 67, 0.15);\n",
              "      fill: #174EA6;\n",
              "    }\n",
              "\n",
              "    .colab-df-buttons div {\n",
              "      margin-bottom: 4px;\n",
              "    }\n",
              "\n",
              "    [theme=dark] .colab-df-convert {\n",
              "      background-color: #3B4455;\n",
              "      fill: #D2E3FC;\n",
              "    }\n",
              "\n",
              "    [theme=dark] .colab-df-convert:hover {\n",
              "      background-color: #434B5C;\n",
              "      box-shadow: 0px 1px 3px 1px rgba(0, 0, 0, 0.15);\n",
              "      filter: drop-shadow(0px 1px 2px rgba(0, 0, 0, 0.3));\n",
              "      fill: #FFFFFF;\n",
              "    }\n",
              "  </style>\n",
              "\n",
              "    <script>\n",
              "      const buttonEl =\n",
              "        document.querySelector('#df-ddd21b2e-032f-474a-a01b-98d86adc4059 button.colab-df-convert');\n",
              "      buttonEl.style.display =\n",
              "        google.colab.kernel.accessAllowed ? 'block' : 'none';\n",
              "\n",
              "      async function convertToInteractive(key) {\n",
              "        const element = document.querySelector('#df-ddd21b2e-032f-474a-a01b-98d86adc4059');\n",
              "        const dataTable =\n",
              "          await google.colab.kernel.invokeFunction('convertToInteractive',\n",
              "                                                    [key], {});\n",
              "        if (!dataTable) return;\n",
              "\n",
              "        const docLinkHtml = 'Like what you see? Visit the ' +\n",
              "          '<a target=\"_blank\" href=https://colab.research.google.com/notebooks/data_table.ipynb>data table notebook</a>'\n",
              "          + ' to learn more about interactive tables.';\n",
              "        element.innerHTML = '';\n",
              "        dataTable['output_type'] = 'display_data';\n",
              "        await google.colab.output.renderOutput(dataTable, element);\n",
              "        const docLink = document.createElement('div');\n",
              "        docLink.innerHTML = docLinkHtml;\n",
              "        element.appendChild(docLink);\n",
              "      }\n",
              "    </script>\n",
              "  </div>\n",
              "\n",
              "\n",
              "<div id=\"df-aa2fce29-f8af-44b3-a265-1c906b64a13d\">\n",
              "  <button class=\"colab-df-quickchart\" onclick=\"quickchart('df-aa2fce29-f8af-44b3-a265-1c906b64a13d')\"\n",
              "            title=\"Suggest charts\"\n",
              "            style=\"display:none;\">\n",
              "\n",
              "<svg xmlns=\"http://www.w3.org/2000/svg\" height=\"24px\"viewBox=\"0 0 24 24\"\n",
              "     width=\"24px\">\n",
              "    <g>\n",
              "        <path d=\"M19 3H5c-1.1 0-2 .9-2 2v14c0 1.1.9 2 2 2h14c1.1 0 2-.9 2-2V5c0-1.1-.9-2-2-2zM9 17H7v-7h2v7zm4 0h-2V7h2v10zm4 0h-2v-4h2v4z\"/>\n",
              "    </g>\n",
              "</svg>\n",
              "  </button>\n",
              "\n",
              "<style>\n",
              "  .colab-df-quickchart {\n",
              "      --bg-color: #E8F0FE;\n",
              "      --fill-color: #1967D2;\n",
              "      --hover-bg-color: #E2EBFA;\n",
              "      --hover-fill-color: #174EA6;\n",
              "      --disabled-fill-color: #AAA;\n",
              "      --disabled-bg-color: #DDD;\n",
              "  }\n",
              "\n",
              "  [theme=dark] .colab-df-quickchart {\n",
              "      --bg-color: #3B4455;\n",
              "      --fill-color: #D2E3FC;\n",
              "      --hover-bg-color: #434B5C;\n",
              "      --hover-fill-color: #FFFFFF;\n",
              "      --disabled-bg-color: #3B4455;\n",
              "      --disabled-fill-color: #666;\n",
              "  }\n",
              "\n",
              "  .colab-df-quickchart {\n",
              "    background-color: var(--bg-color);\n",
              "    border: none;\n",
              "    border-radius: 50%;\n",
              "    cursor: pointer;\n",
              "    display: none;\n",
              "    fill: var(--fill-color);\n",
              "    height: 32px;\n",
              "    padding: 0;\n",
              "    width: 32px;\n",
              "  }\n",
              "\n",
              "  .colab-df-quickchart:hover {\n",
              "    background-color: var(--hover-bg-color);\n",
              "    box-shadow: 0 1px 2px rgba(60, 64, 67, 0.3), 0 1px 3px 1px rgba(60, 64, 67, 0.15);\n",
              "    fill: var(--button-hover-fill-color);\n",
              "  }\n",
              "\n",
              "  .colab-df-quickchart-complete:disabled,\n",
              "  .colab-df-quickchart-complete:disabled:hover {\n",
              "    background-color: var(--disabled-bg-color);\n",
              "    fill: var(--disabled-fill-color);\n",
              "    box-shadow: none;\n",
              "  }\n",
              "\n",
              "  .colab-df-spinner {\n",
              "    border: 2px solid var(--fill-color);\n",
              "    border-color: transparent;\n",
              "    border-bottom-color: var(--fill-color);\n",
              "    animation:\n",
              "      spin 1s steps(1) infinite;\n",
              "  }\n",
              "\n",
              "  @keyframes spin {\n",
              "    0% {\n",
              "      border-color: transparent;\n",
              "      border-bottom-color: var(--fill-color);\n",
              "      border-left-color: var(--fill-color);\n",
              "    }\n",
              "    20% {\n",
              "      border-color: transparent;\n",
              "      border-left-color: var(--fill-color);\n",
              "      border-top-color: var(--fill-color);\n",
              "    }\n",
              "    30% {\n",
              "      border-color: transparent;\n",
              "      border-left-color: var(--fill-color);\n",
              "      border-top-color: var(--fill-color);\n",
              "      border-right-color: var(--fill-color);\n",
              "    }\n",
              "    40% {\n",
              "      border-color: transparent;\n",
              "      border-right-color: var(--fill-color);\n",
              "      border-top-color: var(--fill-color);\n",
              "    }\n",
              "    60% {\n",
              "      border-color: transparent;\n",
              "      border-right-color: var(--fill-color);\n",
              "    }\n",
              "    80% {\n",
              "      border-color: transparent;\n",
              "      border-right-color: var(--fill-color);\n",
              "      border-bottom-color: var(--fill-color);\n",
              "    }\n",
              "    90% {\n",
              "      border-color: transparent;\n",
              "      border-bottom-color: var(--fill-color);\n",
              "    }\n",
              "  }\n",
              "</style>\n",
              "\n",
              "  <script>\n",
              "    async function quickchart(key) {\n",
              "      const quickchartButtonEl =\n",
              "        document.querySelector('#' + key + ' button');\n",
              "      quickchartButtonEl.disabled = true;  // To prevent multiple clicks.\n",
              "      quickchartButtonEl.classList.add('colab-df-spinner');\n",
              "      try {\n",
              "        const charts = await google.colab.kernel.invokeFunction(\n",
              "            'suggestCharts', [key], {});\n",
              "      } catch (error) {\n",
              "        console.error('Error during call to suggestCharts:', error);\n",
              "      }\n",
              "      quickchartButtonEl.classList.remove('colab-df-spinner');\n",
              "      quickchartButtonEl.classList.add('colab-df-quickchart-complete');\n",
              "    }\n",
              "    (() => {\n",
              "      let quickchartButtonEl =\n",
              "        document.querySelector('#df-aa2fce29-f8af-44b3-a265-1c906b64a13d button');\n",
              "      quickchartButtonEl.style.display =\n",
              "        google.colab.kernel.accessAllowed ? 'block' : 'none';\n",
              "    })();\n",
              "  </script>\n",
              "</div>\n",
              "\n",
              "    </div>\n",
              "  </div>\n"
            ],
            "application/vnd.google.colaboratory.intrinsic+json": {
              "type": "dataframe",
              "variable_name": "df",
              "summary": "{\n  \"name\": \"df\",\n  \"rows\": 11541,\n  \"fields\": [\n    {\n      \"column\": \"airline_sentiment\",\n      \"properties\": {\n        \"dtype\": \"number\",\n        \"std\": 0,\n        \"min\": 0,\n        \"max\": 1,\n        \"num_unique_values\": 2,\n        \"samples\": [\n          0,\n          1\n        ],\n        \"semantic_type\": \"\",\n        \"description\": \"\"\n      }\n    },\n    {\n      \"column\": \"text\",\n      \"properties\": {\n        \"dtype\": \"string\",\n        \"num_unique_values\": 11288,\n        \"samples\": [\n          \"jetblue 730 645 scheduled\",\n          \"southwestair thanks much make cancelled flightlation sent u info\"\n        ],\n        \"semantic_type\": \"\",\n        \"description\": \"\"\n      }\n    }\n  ]\n}"
            }
          },
          "metadata": {},
          "execution_count": 17
        }
      ]
    },
    {
      "cell_type": "markdown",
      "source": [
        "Checking Most Used Words:"
      ],
      "metadata": {
        "id": "ftq8p5ZFXafv"
      }
    },
    {
      "cell_type": "code",
      "source": [
        "# Create a Counter object to count word occurrences in text reviews\n",
        "counts = Counter()\n",
        "\n",
        "# Loop through the text reviews in the DataFrame and update the word counts\n",
        "for i, review in enumerate(df['text']):\n",
        "    counts.update(review.split())"
      ],
      "metadata": {
        "id": "MCLLYjm3Xd8P"
      },
      "execution_count": null,
      "outputs": []
    },
    {
      "cell_type": "code",
      "source": [
        "words = sorted(counts, key=counts.get, reverse=True)\n",
        "\n",
        "# Select and print the top 10 most frequent words\n",
        "top_10_words = words[0:10]\n",
        "print(top_10_words)"
      ],
      "metadata": {
        "colab": {
          "base_uri": "https://localhost:8080/"
        },
        "id": "CsSq4dYuYovq",
        "outputId": "3e806fe4-7b00-4545-f635-97e30ee79cef"
      },
      "execution_count": null,
      "outputs": [
        {
          "output_type": "stream",
          "name": "stdout",
          "text": [
            "['united', 'flight', 'usairways', 'americanair', 'southwestair', 'jetblue', 'get', 'cancelled', 'thanks', 'service']\n"
          ]
        }
      ]
    },
    {
      "cell_type": "markdown",
      "source": [
        "Creating Numeric Representation of Words (Bag of Words):"
      ],
      "metadata": {
        "id": "4eDaYRaWgabW"
      }
    },
    {
      "cell_type": "code",
      "source": [
        "# Create a dictionary that maps words to unique integer values, starting from 1\n",
        "word_to_int = {word: i for i, word in enumerate(words, start=1)}\n",
        "\n",
        "# Create a dictionary that maps integer values to words\n",
        "int_to_word = {i: word for i, word in enumerate(words, start=1)}"
      ],
      "metadata": {
        "id": "nzxxmbq7gbyW"
      },
      "execution_count": null,
      "outputs": []
    },
    {
      "cell_type": "code",
      "source": [
        "def text_to_int(text: str, word_to_int: dict):\n",
        "    # Split the input text into words and convert each word to its corresponding integer using the word_to_int dictionary\n",
        "    return [word_to_int[word] for word in text.split()]\n",
        "\n",
        "def int_to_text(int_arr, int_to_word: dict):\n",
        "    # Join the list of integers into a string of words, using the int_to_word dictionary to map integers back to words\n",
        "    return ' '.join([int_to_word[index] for index in int_arr if index != 0])"
      ],
      "metadata": {
        "id": "zxgerUUhg-tk"
      },
      "execution_count": null,
      "outputs": []
    },
    {
      "cell_type": "code",
      "source": [
        "mapped_reviews = []\n",
        "\n",
        "# Loop through the text reviews in the DataFrame and convert each review to a list of integers using text_to_int function\n",
        "for review in df['text']:\n",
        "    mapped_reviews.append(text_to_int(review, word_to_int))"
      ],
      "metadata": {
        "id": "M6E5JLSfhCMk"
      },
      "execution_count": null,
      "outputs": []
    },
    {
      "cell_type": "code",
      "source": [
        "print(f'Original text: {df.loc[0][\"text\"]}')\n",
        "\n",
        "# Print the mapped version of the text from the first review\n",
        "print(f'Mapped text: {mapped_reviews[0]}')"
      ],
      "metadata": {
        "colab": {
          "base_uri": "https://localhost:8080/"
        },
        "id": "NWFArhlAhGNc",
        "outputId": "ed234f80-0809-4d74-d625-898bccf3940e"
      },
      "execution_count": null,
      "outputs": [
        {
          "output_type": "stream",
          "name": "stdout",
          "text": [
            "Original text: virginamerica plus added commercials experience tacky\n",
            "Mapped text: [44, 450, 1142, 2233, 100, 5429]\n"
          ]
        }
      ]
    },
    {
      "cell_type": "code",
      "source": [
        "length_sent = []\n",
        "\n",
        "# Loop through the mapped reviews and calculate the length (number of words) of each review\n",
        "for i in range(len(mapped_reviews)):\n",
        "    length_sent.append(len(mapped_reviews[i]))"
      ],
      "metadata": {
        "id": "SJGn3UpdhMtl"
      },
      "execution_count": null,
      "outputs": []
    },
    {
      "cell_type": "markdown",
      "source": [
        "Checking sequence length and padding accordingly:"
      ],
      "metadata": {
        "id": "izIWeQpwhgZP"
      }
    },
    {
      "cell_type": "code",
      "source": [
        "# Calculate the sequence_length as the maximum length among all mapped reviews\n",
        "sequence_length = max(length_sent)\n",
        "\n",
        "# Use the pad_sequences function to pad the mapped_reviews\n",
        "X = pad_sequences(maxlen=sequence_length, sequences=mapped_reviews, padding=\"post\", value=0)"
      ],
      "metadata": {
        "id": "acGNa-Iwhhpe"
      },
      "execution_count": null,
      "outputs": []
    },
    {
      "cell_type": "code",
      "source": [
        "X[0]"
      ],
      "metadata": {
        "colab": {
          "base_uri": "https://localhost:8080/"
        },
        "id": "jl1mp6VMhlQL",
        "outputId": "22682043-eb0d-495d-e6d9-96b94d9c1258"
      },
      "execution_count": null,
      "outputs": [
        {
          "output_type": "execute_result",
          "data": {
            "text/plain": [
              "array([  44,  450, 1142, 2233,  100, 5429,    0,    0,    0,    0,    0,\n",
              "          0,    0,    0,    0,    0,    0,    0,    0,    0,    0,    0,\n",
              "          0,    0,    0,    0], dtype=int32)"
            ]
          },
          "metadata": {},
          "execution_count": 31
        }
      ]
    },
    {
      "cell_type": "code",
      "source": [
        "y = df['airline_sentiment'].values"
      ],
      "metadata": {
        "id": "xJVFQt01ho4N"
      },
      "execution_count": null,
      "outputs": []
    },
    {
      "cell_type": "markdown",
      "source": [
        "CREATING LSTM MODEL:"
      ],
      "metadata": {
        "id": "32y8_rdUhw-o"
      }
    },
    {
      "cell_type": "code",
      "source": [
        "# Set the embedding vector length to 32\n",
        "embedding_vecor_length = 32\n",
        "\n",
        "# Set the maximum review length to 26\n",
        "max_review_length = 26"
      ],
      "metadata": {
        "id": "ZdRnzH5lh584"
      },
      "execution_count": null,
      "outputs": []
    },
    {
      "cell_type": "code",
      "source": [
        "model = Sequential()\n",
        "\n",
        "# Add an embedding layer with an input dimension of 12533, output dimension of 32, and input length of 26\n",
        "model.add(Embedding(input_dim=12533, output_dim=32, input_length=26))\n",
        "\n",
        "# Add the first LSTM layer with 40 units and return sequences (used for stacking LSTM layers)\n",
        "model.add(LSTM(40, return_sequences=True))\n",
        "\n",
        "# Add the second LSTM layer with 40 units and return sequences set to False (final LSTM layer)\n",
        "model.add(LSTM(40, return_sequences=False))\n",
        "\n",
        "# Add a Dense layer with 2 units and softmax activation (common for binary classification)\n",
        "model.add(Dense(2, activation='softmax'))\n",
        "\n",
        "# Compile the model with categorical cross-entropy loss and the Adam optimizer, and measure accuracy during training\n",
        "model.compile(loss='categorical_crossentropy', optimizer='adam', metrics=['accuracy'])"
      ],
      "metadata": {
        "id": "_bdfgaF9h9SQ"
      },
      "execution_count": null,
      "outputs": []
    },
    {
      "cell_type": "code",
      "source": [
        "print(model.summary())"
      ],
      "metadata": {
        "colab": {
          "base_uri": "https://localhost:8080/"
        },
        "id": "zEYYGKrEiHK9",
        "outputId": "59fe96ae-7deb-44cf-ee6f-3022529dd24c"
      },
      "execution_count": null,
      "outputs": [
        {
          "output_type": "stream",
          "name": "stdout",
          "text": [
            "Model: \"sequential\"\n",
            "_________________________________________________________________\n",
            " Layer (type)                Output Shape              Param #   \n",
            "=================================================================\n",
            " embedding (Embedding)       (None, 26, 32)            401056    \n",
            "                                                                 \n",
            " lstm (LSTM)                 (None, 26, 40)            11680     \n",
            "                                                                 \n",
            " lstm_1 (LSTM)               (None, 40)                12960     \n",
            "                                                                 \n",
            " dense (Dense)               (None, 2)                 82        \n",
            "                                                                 \n",
            "=================================================================\n",
            "Total params: 425778 (1.62 MB)\n",
            "Trainable params: 425778 (1.62 MB)\n",
            "Non-trainable params: 0 (0.00 Byte)\n",
            "_________________________________________________________________\n",
            "None\n"
          ]
        }
      ]
    },
    {
      "cell_type": "markdown",
      "source": [
        "Preparing data for training and validation:"
      ],
      "metadata": {
        "id": "eA4LVZQliOry"
      }
    },
    {
      "cell_type": "code",
      "source": [
        "X_train, X_test, y_train, y_test = train_test_split(X, y, test_size=0.30, random_state=10)"
      ],
      "metadata": {
        "id": "eBEpPh9miP63"
      },
      "execution_count": null,
      "outputs": []
    },
    {
      "cell_type": "markdown",
      "source": [
        "One-hot-encoding:"
      ],
      "metadata": {
        "id": "jCL47UJijWcd"
      }
    },
    {
      "cell_type": "code",
      "source": [
        "y_train = to_categorical(y_train)\n",
        "y_test = to_categorical(y_test)"
      ],
      "metadata": {
        "id": "3Xwpt1ZnjYYa"
      },
      "execution_count": null,
      "outputs": []
    },
    {
      "cell_type": "markdown",
      "source": [
        "Training:"
      ],
      "metadata": {
        "id": "j6D1DH8DjdgO"
      }
    },
    {
      "cell_type": "code",
      "source": [
        "history = model.fit(X_train, y_train, validation_data=(X_test, y_test), epochs=50, batch_size=32)"
      ],
      "metadata": {
        "colab": {
          "base_uri": "https://localhost:8080/"
        },
        "id": "xOmNnJzHjmm0",
        "outputId": "dd11fb30-7d88-4039-ce47-ba1e85e3ccff"
      },
      "execution_count": null,
      "outputs": [
        {
          "output_type": "stream",
          "name": "stdout",
          "text": [
            "Epoch 1/50\n",
            "253/253 [==============================] - 16s 40ms/step - loss: 0.3400 - accuracy: 0.8663 - val_loss: 0.2104 - val_accuracy: 0.9108\n",
            "Epoch 2/50\n",
            "253/253 [==============================] - 10s 39ms/step - loss: 0.1397 - accuracy: 0.9468 - val_loss: 0.2179 - val_accuracy: 0.9108\n",
            "Epoch 3/50\n",
            "253/253 [==============================] - 11s 43ms/step - loss: 0.0752 - accuracy: 0.9767 - val_loss: 0.2577 - val_accuracy: 0.9076\n",
            "Epoch 4/50\n",
            "253/253 [==============================] - 9s 36ms/step - loss: 0.0428 - accuracy: 0.9877 - val_loss: 0.2530 - val_accuracy: 0.9105\n",
            "Epoch 5/50\n",
            "253/253 [==============================] - 9s 35ms/step - loss: 0.0350 - accuracy: 0.9902 - val_loss: 0.3762 - val_accuracy: 0.9038\n",
            "Epoch 6/50\n",
            "253/253 [==============================] - 11s 42ms/step - loss: 0.0246 - accuracy: 0.9937 - val_loss: 0.4260 - val_accuracy: 0.9082\n",
            "Epoch 7/50\n",
            "253/253 [==============================] - 9s 37ms/step - loss: 0.0206 - accuracy: 0.9949 - val_loss: 0.4349 - val_accuracy: 0.9073\n",
            "Epoch 8/50\n",
            "253/253 [==============================] - 9s 37ms/step - loss: 0.0176 - accuracy: 0.9954 - val_loss: 0.3757 - val_accuracy: 0.9007\n",
            "Epoch 9/50\n",
            "253/253 [==============================] - 11s 44ms/step - loss: 0.0151 - accuracy: 0.9969 - val_loss: 0.5122 - val_accuracy: 0.8937\n",
            "Epoch 10/50\n",
            "253/253 [==============================] - 12s 46ms/step - loss: 0.0180 - accuracy: 0.9953 - val_loss: 0.4776 - val_accuracy: 0.9033\n",
            "Epoch 11/50\n",
            "253/253 [==============================] - 9s 35ms/step - loss: 0.0134 - accuracy: 0.9967 - val_loss: 0.4183 - val_accuracy: 0.8845\n",
            "Epoch 12/50\n",
            "253/253 [==============================] - 10s 38ms/step - loss: 0.0110 - accuracy: 0.9975 - val_loss: 0.5704 - val_accuracy: 0.8914\n",
            "Epoch 13/50\n",
            "253/253 [==============================] - 10s 40ms/step - loss: 0.0120 - accuracy: 0.9978 - val_loss: 0.4893 - val_accuracy: 0.8966\n",
            "Epoch 14/50\n",
            "253/253 [==============================] - 11s 45ms/step - loss: 0.0097 - accuracy: 0.9984 - val_loss: 0.5429 - val_accuracy: 0.8969\n",
            "Epoch 15/50\n",
            "253/253 [==============================] - 9s 35ms/step - loss: 0.0092 - accuracy: 0.9980 - val_loss: 0.6698 - val_accuracy: 0.8845\n",
            "Epoch 16/50\n",
            "253/253 [==============================] - 10s 40ms/step - loss: 0.0113 - accuracy: 0.9967 - val_loss: 0.5342 - val_accuracy: 0.8932\n",
            "Epoch 17/50\n",
            "253/253 [==============================] - 10s 39ms/step - loss: 0.0054 - accuracy: 0.9991 - val_loss: 0.5101 - val_accuracy: 0.8972\n",
            "Epoch 18/50\n",
            "253/253 [==============================] - 9s 35ms/step - loss: 0.0101 - accuracy: 0.9970 - val_loss: 0.6311 - val_accuracy: 0.8926\n",
            "Epoch 19/50\n",
            "253/253 [==============================] - 10s 40ms/step - loss: 0.0104 - accuracy: 0.9976 - val_loss: 0.5176 - val_accuracy: 0.8937\n",
            "Epoch 20/50\n",
            "253/253 [==============================] - 9s 37ms/step - loss: 0.0061 - accuracy: 0.9988 - val_loss: 0.6098 - val_accuracy: 0.8923\n",
            "Epoch 21/50\n",
            "253/253 [==============================] - 9s 35ms/step - loss: 0.0039 - accuracy: 0.9994 - val_loss: 0.6966 - val_accuracy: 0.9010\n",
            "Epoch 22/50\n",
            "253/253 [==============================] - 10s 40ms/step - loss: 0.0036 - accuracy: 0.9994 - val_loss: 0.7417 - val_accuracy: 0.8969\n",
            "Epoch 23/50\n",
            "253/253 [==============================] - 10s 39ms/step - loss: 0.0036 - accuracy: 0.9995 - val_loss: 0.7594 - val_accuracy: 0.9001\n",
            "Epoch 24/50\n",
            "253/253 [==============================] - 9s 36ms/step - loss: 0.0038 - accuracy: 0.9994 - val_loss: 0.7700 - val_accuracy: 0.8972\n",
            "Epoch 25/50\n",
            "253/253 [==============================] - 9s 37ms/step - loss: 0.0035 - accuracy: 0.9995 - val_loss: 0.7746 - val_accuracy: 0.8963\n",
            "Epoch 26/50\n",
            "253/253 [==============================] - 10s 40ms/step - loss: 0.0036 - accuracy: 0.9993 - val_loss: 0.8255 - val_accuracy: 0.8943\n",
            "Epoch 27/50\n",
            "253/253 [==============================] - 13s 52ms/step - loss: 0.0140 - accuracy: 0.9969 - val_loss: 0.5807 - val_accuracy: 0.8963\n",
            "Epoch 28/50\n",
            "253/253 [==============================] - 13s 50ms/step - loss: 0.0135 - accuracy: 0.9959 - val_loss: 0.3911 - val_accuracy: 0.9018\n",
            "Epoch 29/50\n",
            "253/253 [==============================] - 9s 34ms/step - loss: 0.0077 - accuracy: 0.9979 - val_loss: 0.5117 - val_accuracy: 0.8989\n",
            "Epoch 30/50\n",
            "253/253 [==============================] - 11s 42ms/step - loss: 0.0081 - accuracy: 0.9986 - val_loss: 0.6094 - val_accuracy: 0.8969\n",
            "Epoch 31/50\n",
            "253/253 [==============================] - 11s 44ms/step - loss: 0.0046 - accuracy: 0.9991 - val_loss: 0.6438 - val_accuracy: 0.8978\n",
            "Epoch 32/50\n",
            "253/253 [==============================] - 9s 34ms/step - loss: 0.0039 - accuracy: 0.9990 - val_loss: 0.6562 - val_accuracy: 0.8978\n",
            "Epoch 33/50\n",
            "253/253 [==============================] - 10s 41ms/step - loss: 0.0053 - accuracy: 0.9983 - val_loss: 0.6398 - val_accuracy: 0.8871\n",
            "Epoch 34/50\n",
            "253/253 [==============================] - 10s 39ms/step - loss: 0.0021 - accuracy: 0.9991 - val_loss: 0.8201 - val_accuracy: 0.8978\n",
            "Epoch 35/50\n",
            "253/253 [==============================] - 8s 33ms/step - loss: 0.0017 - accuracy: 0.9996 - val_loss: 0.7984 - val_accuracy: 0.8966\n",
            "Epoch 36/50\n",
            "253/253 [==============================] - 9s 37ms/step - loss: 0.0013 - accuracy: 0.9996 - val_loss: 0.8408 - val_accuracy: 0.9004\n",
            "Epoch 37/50\n",
            "253/253 [==============================] - 10s 40ms/step - loss: 9.2150e-04 - accuracy: 0.9998 - val_loss: 0.8429 - val_accuracy: 0.9012\n",
            "Epoch 38/50\n",
            "253/253 [==============================] - 9s 35ms/step - loss: 8.5862e-04 - accuracy: 0.9996 - val_loss: 0.8521 - val_accuracy: 0.9007\n",
            "Epoch 39/50\n",
            "253/253 [==============================] - 9s 37ms/step - loss: 0.0042 - accuracy: 0.9990 - val_loss: 0.7513 - val_accuracy: 0.8958\n",
            "Epoch 40/50\n",
            "253/253 [==============================] - 10s 39ms/step - loss: 0.0062 - accuracy: 0.9983 - val_loss: 0.7016 - val_accuracy: 0.8874\n",
            "Epoch 41/50\n",
            "253/253 [==============================] - 9s 35ms/step - loss: 0.0045 - accuracy: 0.9981 - val_loss: 0.6509 - val_accuracy: 0.8963\n",
            "Epoch 42/50\n",
            "253/253 [==============================] - 9s 34ms/step - loss: 0.0045 - accuracy: 0.9988 - val_loss: 0.6977 - val_accuracy: 0.8955\n",
            "Epoch 43/50\n",
            "253/253 [==============================] - 10s 40ms/step - loss: 0.0017 - accuracy: 0.9998 - val_loss: 0.7647 - val_accuracy: 0.8958\n",
            "Epoch 44/50\n",
            "253/253 [==============================] - 9s 36ms/step - loss: 0.0015 - accuracy: 0.9998 - val_loss: 0.7730 - val_accuracy: 0.8949\n",
            "Epoch 45/50\n",
            "253/253 [==============================] - 10s 38ms/step - loss: 0.0018 - accuracy: 0.9995 - val_loss: 0.6690 - val_accuracy: 0.8998\n",
            "Epoch 46/50\n",
            "253/253 [==============================] - 10s 38ms/step - loss: 0.0023 - accuracy: 0.9991 - val_loss: 0.7349 - val_accuracy: 0.8946\n",
            "Epoch 47/50\n",
            "253/253 [==============================] - 9s 34ms/step - loss: 0.0030 - accuracy: 0.9993 - val_loss: 0.8067 - val_accuracy: 0.8969\n",
            "Epoch 48/50\n",
            "253/253 [==============================] - 11s 43ms/step - loss: 0.0012 - accuracy: 0.9996 - val_loss: 0.7165 - val_accuracy: 0.8885\n",
            "Epoch 49/50\n",
            "253/253 [==============================] - 10s 40ms/step - loss: 0.0013 - accuracy: 0.9995 - val_loss: 0.8594 - val_accuracy: 0.8972\n",
            "Epoch 50/50\n",
            "253/253 [==============================] - 11s 42ms/step - loss: 0.0020 - accuracy: 0.9994 - val_loss: 0.8813 - val_accuracy: 0.8984\n"
          ]
        }
      ]
    },
    {
      "cell_type": "code",
      "source": [
        "%matplotlib inline\n",
        "\n",
        "# Extract the training history from the 'history' object\n",
        "history_dict = history.history\n",
        "\n",
        "# Extract the training and validation loss values\n",
        "loss_values = history_dict['loss']\n",
        "val_loss_values = history_dict['val_loss']\n",
        "\n",
        "# Extract the training and validation accuracy values\n",
        "acc_values = history_dict['accuracy']\n",
        "val_acc_values = history_dict['val_accuracy']\n",
        "\n",
        "# Define the range of epochs\n",
        "epochs = range(1, len(val_loss_values) + 1)"
      ],
      "metadata": {
        "id": "rs7tzOs1kqbs"
      },
      "execution_count": null,
      "outputs": []
    },
    {
      "cell_type": "code",
      "source": [
        "plt.subplot(211)\n",
        "\n",
        "# Plot the training loss as blue dots ('bo')\n",
        "plt.plot(epochs, history.history['loss'], 'bo', label='Training loss')\n",
        "plt.title('Training Loss')\n",
        "plt.xlabel('Epochs')\n",
        "plt.ylabel('Loss')\n",
        "plt.legend()\n",
        "plt.grid('off')\n",
        "\n",
        "plt.show()"
      ],
      "metadata": {
        "colab": {
          "base_uri": "https://localhost:8080/",
          "height": 270
        },
        "id": "R2uBMo2KlorK",
        "outputId": "60035065-ac08-4a5b-9b93-ecada70e9655"
      },
      "execution_count": null,
      "outputs": [
        {
          "output_type": "display_data",
          "data": {
            "text/plain": [
              "<Figure size 640x480 with 1 Axes>"
            ],
            "image/png": "[encoded data removed]"
          },
          "metadata": {}
        }
      ]
    },
    {
      "cell_type": "code",
      "source": [
        "plt.subplot(212)\n",
        "\n",
        "# Plot the training accuracy as blue dots ('bo')\n",
        "plt.plot(epochs, history.history['accuracy'], 'bo', label='Training accuracy')\n",
        "plt.title('Training accuracy')\n",
        "plt.xlabel('Epochs')\n",
        "plt.ylabel('Accuracy')\n",
        "\n",
        "# Format the y-axis tick labels to display percentages\n",
        "plt.gca().set_yticklabels(['{:.0f}%'.format(x * 100) for x in plt.gca().get_yticks()])\n",
        "plt.legend()\n",
        "plt.grid(False)\n",
        "\n",
        "plt.show()"
      ],
      "metadata": {
        "colab": {
          "base_uri": "https://localhost:8080/",
          "height": 305
        },
        "id": "qLFcHQikl2dE",
        "outputId": "c0b9b71a-86ba-4771-d117-ad745714a8d3"
      },
      "execution_count": null,
      "outputs": [
        {
          "output_type": "stream",
          "name": "stderr",
          "text": [
            "<ipython-input-37-78fc919a1ae7>:10: UserWarning: FixedFormatter should only be used together with FixedLocator\n",
            "  plt.gca().set_yticklabels(['{:.0f}%'.format(x * 100) for x in plt.gca().get_yticks()])\n"
          ]
        },
        {
          "output_type": "display_data",
          "data": {
            "text/plain": [
              "<Figure size 640x480 with 1 Axes>"
            ],
            "image/png": "[encoded data removed]"
          },
          "metadata": {}
        }
      ]
    },
    {
      "cell_type": "markdown",
      "source": [
        "Anecdotes:"
      ],
      "metadata": {
        "id": "ePi6ehJpmQnT"
      }
    },
    {
      "cell_type": "code",
      "source": [
        "def get_sentiment(model, text) -> str:\n",
        "    # Convert the input text to a list of integers using the text_to_int function\n",
        "    text_int_embedding = text_to_int(text, word_to_int)\n",
        "\n",
        "    # Pad the list of integers to match the sequence length\n",
        "    text_int_embedding = pad_sequences(maxlen=sequence_length, sequences=[text_int_embedding], padding=\"post\", value=0)\n",
        "\n",
        "    # Predict the sentiment using the model and get the index of the predicted class\n",
        "    sentiment_index = np.argmax(model.predict(text_int_embedding))\n",
        "\n",
        "    # Return the sentiment index as a string\n",
        "    return sentiment_index"
      ],
      "metadata": {
        "id": "mUkXOiAmmVBB"
      },
      "execution_count": null,
      "outputs": []
    },
    {
      "cell_type": "code",
      "source": [
        "result = np.argmax(model.predict(X_test), axis=1)"
      ],
      "metadata": {
        "colab": {
          "base_uri": "https://localhost:8080/"
        },
        "id": "6MwA6tVimggb",
        "outputId": "97243e38-c9fc-43b5-b054-deca90315825"
      },
      "execution_count": null,
      "outputs": [
        {
          "output_type": "stream",
          "name": "stdout",
          "text": [
            "109/109 [==============================] - 2s 7ms/step\n"
          ]
        }
      ]
    },
    {
      "cell_type": "code",
      "source": [
        "positive_sentences = [int_to_text(embedding, int_to_word) for i, embedding in enumerate(X_test) if result[i] == 1]"
      ],
      "metadata": {
        "id": "N53mXuZFmpxQ"
      },
      "execution_count": null,
      "outputs": []
    },
    {
      "cell_type": "code",
      "source": [
        "negative_sentences = [int_to_text(embedding, int_to_word) for i, embedding in enumerate(X_test) if result[i] == 0]"
      ],
      "metadata": {
        "id": "QrEOFnaLmt8X"
      },
      "execution_count": null,
      "outputs": []
    },
    {
      "cell_type": "code",
      "source": [
        "positive_sentences[:5]"
      ],
      "metadata": {
        "colab": {
          "base_uri": "https://localhost:8080/"
        },
        "id": "q2oAfY_hmyCe",
        "outputId": "932da17c-fc2f-46de-ed97-eb76ee20c6b6"
      },
      "execution_count": null,
      "outputs": [
        {
          "output_type": "execute_result",
          "data": {
            "text/plain": [
              "['jetblue flight flight booking problems experience pretty great',\n",
              " 'southwestair leeannhealey yeah sale fares got places fly oh damn right live swa fly',\n",
              " 'jetblue utah think thanks',\n",
              " 'americanair let extraordinary week make year remember goingforgreat 2015 thanks much american airlines',\n",
              " 'usairways talked reservation must congratulation friendly good usair airline fly']"
            ]
          },
          "metadata": {},
          "execution_count": 42
        }
      ]
    },
    {
      "cell_type": "code",
      "source": [
        "negative_sentences[:5]"
      ],
      "metadata": {
        "colab": {
          "base_uri": "https://localhost:8080/"
        },
        "id": "L7dA9tl5m1JK",
        "outputId": "e7ee9878-2fde-4c74-a9d6-2c0efc7258e4"
      },
      "execution_count": null,
      "outputs": [
        {
          "output_type": "execute_result",
          "data": {
            "text/plain": [
              "['usairways glad airline going swallowed american american always picks phone solves problems',\n",
              " 'southwestair disconnected call 2 5 hours without even speaking octaviannightmare',\n",
              " 'americanair well done taken fun air travel phlairport',\n",
              " 'usairways told coded upgrade clearly purchased seat miles refuse downgrade ripoff',\n",
              " 'rt virginamerica met match got status another airline upgrade restr http co rhkamx9vf5 http co pyalebgkjt']"
            ]
          },
          "metadata": {},
          "execution_count": 43
        }
      ]
    },
    {
      "cell_type": "markdown",
      "source": [
        "GENERATING TEXT:"
      ],
      "metadata": {
        "id": "hdEH1992m-vM"
      }
    },
    {
      "cell_type": "code",
      "source": [
        "def load_data(filename: str = '/content/drive/MyDrive/alice.txt'):\n",
        "    # Open the specified file for reading\n",
        "    with open(filename, encoding='utf-8-sig') as fin:\n",
        "        lines = []\n",
        "        for line in fin:\n",
        "            # Strip leading and trailing whitespace, and convert the line to lowercase\n",
        "            line = line.strip().lower()\n",
        "\n",
        "            # Check if the line is empty, and if so, skip it\n",
        "            if (len(line) == 0):\n",
        "                continue\n",
        "\n",
        "            # Append the processed line to the list of lines\n",
        "            lines.append(line)\n",
        "\n",
        "        # Close the file\n",
        "        fin.close()\n",
        "\n",
        "        # Combine the lines into a single string with spaces in between\n",
        "        text = \" \".join(lines)\n",
        "\n",
        "    # Return the concatenated text\n",
        "    return text"
      ],
      "metadata": {
        "id": "aTQ-LXVAnBRr"
      },
      "execution_count": null,
      "outputs": []
    },
    {
      "cell_type": "code",
      "source": [
        "text = load_data()"
      ],
      "metadata": {
        "id": "pG4U1fQknISP"
      },
      "execution_count": null,
      "outputs": []
    },
    {
      "cell_type": "code",
      "source": [
        "text[3001:3500]"
      ],
      "metadata": {
        "colab": {
          "base_uri": "https://localhost:8080/",
          "height": 70
        },
        "id": "zv0yYaxpnz3q",
        "outputId": "fd2eb097-3276-4a67-dfa5-cc5c4ae94402"
      },
      "execution_count": null,
      "outputs": [
        {
          "output_type": "execute_result",
          "data": {
            "text/plain": [
              "'moment to think about stopping herself before she found herself falling down a very deep well. either the well was very deep, or she fell very slowly, for she had plenty of time as she went down to look about her and to wonder what was going to happen next. first, she tried to look down and make out what she was coming to, but it was too dark to see anything; then she looked at the sides of the well, and noticed that they were filled with cupboards and book-shelves; here and there she saw maps '"
            ],
            "application/vnd.google.colaboratory.intrinsic+json": {
              "type": "string"
            }
          },
          "metadata": {},
          "execution_count": 52
        }
      ]
    },
    {
      "cell_type": "code",
      "source": [
        "def pre_process(text: str) -> str:\n",
        "    # Convert the text to lowercase\n",
        "    text = text.lower()\n",
        "\n",
        "    # Remove non-alphanumeric characters and replace them with spaces\n",
        "    text = re.sub('[^0-9a-zA-Z]+', ' ', text)\n",
        "\n",
        "    # Return the preprocessed text\n",
        "    return text"
      ],
      "metadata": {
        "id": "9PDZKY1Ln3Gp"
      },
      "execution_count": null,
      "outputs": []
    },
    {
      "cell_type": "code",
      "source": [
        "# Create a Counter to count the frequency of each word in the text\n",
        "counts = Counter()\n",
        "\n",
        "# Update the counter with the words in the text (text.split() splits the text into words)\n",
        "counts.update(text.split())\n",
        "\n",
        "# Create a list of unique words (sorted by frequency, in descending order)\n",
        "words = sorted(counts, key=counts.get, reverse=True)\n",
        "\n",
        "# Calculate the total number of words in the text\n",
        "nb_words = len(text.split())\n",
        "\n",
        "# Create a word-to-index mapping (word2index) and an index-to-word mapping (index2word)\n",
        "word2index = {word: i for i, word in enumerate(words)}"
      ],
      "metadata": {
        "id": "HVtDcqjAn95J"
      },
      "execution_count": null,
      "outputs": []
    },
    {
      "cell_type": "markdown",
      "source": [
        "Preparing the data:"
      ],
      "metadata": {
        "id": "ibMlRTCYoD5I"
      }
    },
    {
      "cell_type": "code",
      "source": [
        "SEQLEN = 10\n",
        "STEP = 1"
      ],
      "metadata": {
        "id": "raT8ElXloLUw"
      },
      "execution_count": null,
      "outputs": []
    },
    {
      "cell_type": "code",
      "source": [
        "def get_input_and_labels(text: str, seq_length: int = SEQLEN, step: int = STEP):\n",
        "    # Initialize empty lists to store input and label sequences\n",
        "    input_words = []\n",
        "    label_words = []\n",
        "\n",
        "    # Split the input text into words\n",
        "    text_arr = text.split()\n",
        "\n",
        "    # Iterate through the text to create sequences\n",
        "    for i in range(0, nb_words - seq_length, step):\n",
        "        # Extract an input sequence of length 'seq_length'\n",
        "        x = text_arr[i:(i + seq_length)]\n",
        "\n",
        "        # Extract the next word as the label for the input sequence\n",
        "        y = text_arr[i + seq_length]\n",
        "\n",
        "        # Append the input sequence and its corresponding label to the lists\n",
        "        input_words.append(x)\n",
        "        label_words.append(y)\n",
        "\n",
        "    return input_words, label_words"
      ],
      "metadata": {
        "id": "52Hid5tDoNrZ"
      },
      "execution_count": null,
      "outputs": []
    },
    {
      "cell_type": "code",
      "source": [
        "input_words, label_words = get_input_and_labels(text)"
      ],
      "metadata": {
        "id": "J6jq846RoUmx"
      },
      "execution_count": null,
      "outputs": []
    },
    {
      "cell_type": "code",
      "source": [
        "print(f'Input: {\" \".join(input_words[0])}\\nOutput: {label_words[0]}')"
      ],
      "metadata": {
        "colab": {
          "base_uri": "https://localhost:8080/"
        },
        "id": "d7uj4sN0oUk5",
        "outputId": "3dc646a1-0ca5-4e8c-cd5c-2dbadb698b5a"
      },
      "execution_count": null,
      "outputs": [
        {
          "output_type": "stream",
          "name": "stdout",
          "text": [
            "Input: the project gutenberg ebook of alice’s adventures in wonderland, by\n",
            "Output: lewis\n"
          ]
        }
      ]
    },
    {
      "cell_type": "code",
      "source": [
        "total_words = len(set(words))\n",
        "\n",
        "# Initialize an array X for input sequences and an array y for labels\n",
        "X = np.zeros((len(input_words), SEQLEN, total_words), dtype=bool)\n",
        "y = np.zeros((len(input_words), total_words), dtype=bool)"
      ],
      "metadata": {
        "id": "kPvQMRU5p1pC"
      },
      "execution_count": null,
      "outputs": []
    },
    {
      "cell_type": "code",
      "source": [
        "# Iterate through input sequences and labels to create one-hot encoded vectors\n",
        "for i, input_word in enumerate(input_words):\n",
        "    for j, word in enumerate(input_word):\n",
        "        # Set the corresponding position in X to 1 for the input word\n",
        "        X[i, j, word2index[word]] = 1\n",
        "\n",
        "        # Set the corresponding position in y to 1 for the label word\n",
        "        y[i, word2index[label_words[i]]] = 1\n"
      ],
      "metadata": {
        "id": "xhdV-cp8p4bX"
      },
      "execution_count": null,
      "outputs": []
    },
    {
      "cell_type": "code",
      "source": [
        "print(f'Input of X: {X.shape}\\nInput of y: {y.shape}')"
      ],
      "metadata": {
        "colab": {
          "base_uri": "https://localhost:8080/"
        },
        "id": "EGKClhAZp-6Y",
        "outputId": "cfd2c56a-9c7e-4cde-d01d-96bf367d0ac8"
      },
      "execution_count": null,
      "outputs": [
        {
          "output_type": "stream",
          "name": "stdout",
          "text": [
            "Input of X: (11541, 26)\n",
            "Input of y: (11541,)\n"
          ]
        }
      ]
    },
    {
      "cell_type": "markdown",
      "source": [
        "Defining the Model:"
      ],
      "metadata": {
        "id": "qyNvlU92qAp2"
      }
    },
    {
      "cell_type": "code",
      "source": [
        "# Constants for text generation\n",
        "HIDDEN_SIZE = 128  # Hidden layer size\n",
        "BATCH_SIZE = 32  # Batch size\n",
        "NUM_ITERATIONS = 100  # Total training iterations\n",
        "NUM_EPOCHS_PER_ITERATION = 1  # Epochs per iteration\n",
        "NUM_PREDS_PER_EPOCH = 100  # Predictions per epoch"
      ],
      "metadata": {
        "id": "LyIHFgJrqUZP"
      },
      "execution_count": null,
      "outputs": []
    },
    {
      "cell_type": "code",
      "source": [
        "# Create a Sequential model\n",
        "model = Sequential()\n",
        "\n",
        "# Add an LSTM layer with specified HIDDEN_SIZE\n",
        "model.add(LSTM(HIDDEN_SIZE, return_sequences=False, input_shape=(SEQLEN, total_words)))\n",
        "\n",
        "# Add a Dense layer with 'softmax' activation function\n",
        "model.add(Dense(total_words, activation='softmax'))\n",
        "\n",
        "# Compile the model using 'adam' optimizer and 'categorical_crossentropy' loss\n",
        "model.compile(optimizer='adam', loss='categorical_crossentropy')\n",
        "\n",
        "# Print the model summary to display its architecture\n",
        "model.summary()"
      ],
      "metadata": {
        "colab": {
          "base_uri": "https://localhost:8080/"
        },
        "id": "Cu51SLnhqeD5",
        "outputId": "d680105c-5652-4f63-ee3e-428a1415cb34"
      },
      "execution_count": null,
      "outputs": [
        {
          "output_type": "stream",
          "name": "stdout",
          "text": [
            "Model: \"sequential_3\"\n",
            "_________________________________________________________________\n",
            " Layer (type)                Output Shape              Param #   \n",
            "=================================================================\n",
            " lstm_2 (LSTM)               (None, 128)               2958336   \n",
            "                                                                 \n",
            " dense_1 (Dense)             (None, 5649)              728721    \n",
            "                                                                 \n",
            "=================================================================\n",
            "Total params: 3687057 (14.07 MB)\n",
            "Trainable params: 3687057 (14.07 MB)\n",
            "Non-trainable params: 0 (0.00 Byte)\n",
            "_________________________________________________________________\n"
          ]
        }
      ]
    }
  ],
  "metadata": {
    "colab": {
      "provenance": []
    },
    "kernelspec": {
      "display_name": "Python 3",
      "name": "python3"
    }
  },
  "nbformat": 4,
  "nbformat_minor": 0
}