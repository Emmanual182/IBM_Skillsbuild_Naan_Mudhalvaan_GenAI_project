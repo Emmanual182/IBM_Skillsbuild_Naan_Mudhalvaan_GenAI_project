{
 "cells": [
  {
   "attachments": {},
   "cell_type": "markdown",
   "id": "4657115b",
   "metadata": {},
   "source": [
    "# **Many-to-One LSTM for Sentiment Analysis and Text Generation**"
   ]
  },
  {
   "attachments": {},
   "cell_type": "markdown",
   "id": "05f2378f",
   "metadata": {},
   "source": [
    "This project delves into sentiment analysis and text generation using Long Short-Term Memory (LSTM) neural networks. We'll start by training an LSTM model to analyze airline sentiments. The dataset contains sentiment labels (0 or 1) and text reviews, which we'll convert into numerical data using the bag-of-words technique. Then, we'll use a many-to-one LSTM architecture to predict sentiment labels from the text.\n",
    "\n",
    "Moving on, we'll explore text generation by training LSTMs on \"Alice's Adventures in Wonderland.\" These LSTMs will learn the text patterns to generate new text based on a given prompt, focusing on next-word prediction for coherent sentences.\n",
    "\n",
    "Throughout this project, we'll tackle challenges like the dynamic nature of language and words with similar meanings. Techniques such as entropy scaling and softmax temperature will help control text randomness.\n",
    "\n",
    "By the end of this project, you'll:\n",
    "\n",
    "## **Learning Outcomes**\n",
    "\n",
    "* Understand sentiment analysis and its significance in analyzing textual data.\n",
    "* Learn essential text preprocessing techniques.\n",
    "* Grasp the bag-of-words technique for numerical representation.\n",
    "* Implement LSTM for sentiment analysis.\n",
    "* Train and evaluate LSTM models for sentiment classification.\n",
    "* Explore text generation using LSTMs.\n",
    "* Recognize the challenges of text generation and how to address them.\n",
    "* Discover entropy scaling and softmax temperature for controlling text generation.\n",
    "* Develop skills in next-word prediction and generating coherent sentences.\n",
    "* Use this project as a foundation for further exploration in sentiment analysis, text generation, and deep learning with LSTMs.\n",
    "\n",
    "---\n"
   ]
  },
  {
   "attachments": {},
   "cell_type": "markdown",
   "id": "e766e1f9",
   "metadata": {},
   "source": [
    "## **Approach**\n",
    "\n",
    "### Sentiment Analysis:\n",
    "\n",
    "* **Dataset:**\n",
    "    - Acquire the airline sentiment dataset containing sentiment labels (0 or 1) and associated text reviews.\n",
    "\n",
    "* **Preprocessing:**\n",
    "    - Perform data preprocessing, including text cleaning, tokenization, and stop words removal.\n",
    "    - Transform text reviews into a bag-of-words representation.\n",
    "\n",
    "* **Many-to-One LSTM:**\n",
    "    - Employ the many-to-one LSTM architecture for training the sentiment detection model.\n",
    "    - Feed the bag-of-words representation of text reviews as input to the LSTM.\n",
    "\n",
    "* **Training:**\n",
    "    - Split the dataset into training and testing sets.\n",
    "    - Train the LSTM model using the training set.\n",
    "    - Evaluate the model's performance on the testing set.\n",
    "\n",
    "### Text Generation:\n",
    "\n",
    "* **Dataset:**\n",
    "    - Obtain the \"Alice's Adventures in Wonderland\" text dataset.\n",
    "\n",
    "* **Preparing and Structuring:**\n",
    "    - Preprocess the text data by cleaning, tokenizing, and structuring sentences and phrases.\n",
    "    - Create sequences for training.\n",
    "\n",
    "* **Many-to-One LSTM:**\n",
    "    - Implement the many-to-one LSTM architecture for text generation.\n",
    "    - Train the LSTM model using the prepared dataset.\n",
    "\n",
    "* **The Challenge of Text Generation:**\n",
    "    - Recognize the challenges in text generation, including language variability and context dependence.\n",
    "    - Acknowledge the rich diversity of words in natural language and the need for careful consideration during generation.\n",
    "\n",
    "* **Introducing Controlled Randomness with Entropy Scaling:**\n",
    "    - Explore entropy scaling to introduce controlled randomness in text generation.\n",
    "\n",
    "* **Understanding Softmax Temperature:**\n",
    "    - Introduce softmax temperature, a hyperparameter for controlling prediction randomness in LSTMs and neural networks.\n",
    "    - Explain the concept of predicting using the temperature."
   ]
  },
  {
   "cell_type": "markdown",
   "id": "5a429595",
   "metadata": {},
   "source": [
    "---"
   ]
  },
  {
   "attachments": {},
   "cell_type": "markdown",
   "id": "dbbdc20e",
   "metadata": {},
   "source": [
    "## **Install Packages**\n"
   ]
  },
  {
   "cell_type": "code",
   "execution_count": 2,
   "id": "7906baee",
   "metadata": {},
   "outputs": [],
   "source": [
    "# ignore warnings\n",
    "import warnings\n",
    "warnings.filterwarnings('ignore')"
   ]
  },
  {
   "cell_type": "code",
   "execution_count": 3,
   "id": "2e2ba5fa-0e47-4d2d-bb8a-3e5ae32b3935",
   "metadata": {
    "tags": []
   },
   "outputs": [],
   "source": [
    "# !pip install tensorflow\n",
    "# !pip install numpy\n",
    "# !pip install pandas\n",
    "# !pip install nltk"
   ]
  },
  {
   "attachments": {},
   "cell_type": "markdown",
   "id": "b88470f0",
   "metadata": {},
   "source": [
    "### **Import Libraries**"
   ]
  },
  {
   "cell_type": "code",
   "execution_count": 1,
   "id": "84fc61e6-2e58-4038-b7d4-904a796a1062",
   "metadata": {
    "tags": []
   },
   "outputs": [],
   "source": [
    "# Import relevant packages\n",
    "import os\n",
    "from collections import Counter\n",
    "\n",
    "import tensorflow as tf\n",
    "from keras.layers import Dense, Activation\n",
    "from keras.layers import SimpleRNN, LSTM, GRU\n",
    "from keras.models import Sequential\n",
    "from keras.utils import to_categorical, pad_sequences\n",
    "from keras.layers import Embedding\n",
    "\n",
    "import matplotlib.pyplot as plt\n",
    "import matplotlib.ticker as mtick\n",
    "import pandas as pd\n",
    "import numpy as np\n",
    "import nltk\n",
    "import re\n",
    "from projectpro import save_point, checkpoint\n",
    "\n",
    "from sklearn.model_selection import train_test_split\n",
    "from nltk.corpus import stopwords"
   ]
  },
  {
   "cell_type": "code",
   "execution_count": 5,
   "id": "53d9b4a8-9643-4fc1-a87d-4814b446d231",
   "metadata": {
    "tags": []
   },
   "outputs": [
    {
     "name": "stderr",
     "output_type": "stream",
     "text": [
      "[nltk_data] Downloading package stopwords to\n",
      "[nltk_data]     C:\\Users\\vithi\\AppData\\Roaming\\nltk_data...\n",
      "[nltk_data]   Package stopwords is already up-to-date!\n"
     ]
    },
    {
     "data": {
      "text/plain": [
       "True"
      ]
     },
     "execution_count": 5,
     "metadata": {},
     "output_type": "execute_result"
    }
   ],
   "source": [
    "pd.set_option('display.max_colwidth', None)\n",
    "tf.keras.backend.set_image_data_format(\"channels_last\")\n",
    "nltk.download('stopwords')"
   ]
  },
  {
   "cell_type": "markdown",
   "id": "86626d10",
   "metadata": {},
   "source": [
    "---"
   ]
  },
  {
   "attachments": {},
   "cell_type": "markdown",
   "id": "cffe06da-9d21-4545-80d3-7f0f0b28f9e2",
   "metadata": {
    "tags": []
   },
   "source": [
    "## **Sentiment Detection with (Many to One) LSTM**"
   ]
  },
  {
   "attachments": {},
   "cell_type": "markdown",
   "id": "55c4aef7-c740-4e22-b3c7-f0c7ad800e6b",
   "metadata": {},
   "source": [
    "# Types of RNN Models\n",
    "\n",
    "In this post, we will explore different types of Recurrent Neural Network (RNN) models, which are widely used in various applications. \n",
    "\n",
    "## One-to-One Type\n",
    "\n",
    "The one-to-one RNN type is the basic structure where the model processes input data and produces a single output. This is the fundamental architecture of RNNs.\n",
    "\n",
    "## One-to-Many Type\n",
    "\n",
    "In the one-to-many type, the model takes a fixed-format input, such as an image, and generates a sequence of data as output. An excellent example of this is the implementation in image captioning applications.\n",
    "\n",
    "## Many-to-Many Type\n",
    "\n",
    "The many-to-many type receives a sequence of data as input and also generates a sequence of data as output. One common application of this type is machine translation.\n",
    "\n",
    "![Many-to-One](./images/many-to-one.png)\n",
    "\n",
    "\n",
    "*Many-to-one type* is the focus of this post. It takes a sequence of data as input and generates informative data or labels as output. This type is often used for classification tasks. For instance, it can be used to determine the sentiment of a sentence. When the model is trained with many-to-one architecture, it can predict whether a given sentence has a positive or negative sentiment.\n",
    "\n",
    "Consider the sentence: **\"This movie is interesting\"**. To classify its sentiment, word tokenization at the word level can be applied. If the sentence conveys a positive sentiment, it likely contains words like \"good.\" Thus, the model can classify this sentence as having a positive sentiment.\n",
    "\n",
    "To use this approach in an RNN model, the sentence is treated as a sequence of words (the \"many\" part) and classified into a label (the \"one\" part). This is the essence of a many-to-one type model.\n",
    "\n",
    "![Many-to-One Detail](./images/many-to-one_detail.png)\n",
    "\n",
    "---\n",
    "\n"
   ]
  },
  {
   "cell_type": "markdown",
   "id": "79f0117b",
   "metadata": {},
   "source": [
    "---"
   ]
  },
  {
   "attachments": {},
   "cell_type": "markdown",
   "id": "f38dea48-6cf7-4994-8c5c-d19bd0b659e9",
   "metadata": {},
   "source": [
    "## **Reading the dataset**"
   ]
  },
  {
   "cell_type": "code",
   "execution_count": 6,
   "id": "97bf1eef-09cd-4d5a-b74e-b5bfedac54b0",
   "metadata": {
    "tags": []
   },
   "outputs": [
    {
     "data": {
      "text/html": [
       "<div>\n",
       "<style scoped>\n",
       "    .dataframe tbody tr th:only-of-type {\n",
       "        vertical-align: middle;\n",
       "    }\n",
       "\n",
       "    .dataframe tbody tr th {\n",
       "        vertical-align: top;\n",
       "    }\n",
       "\n",
       "    .dataframe thead th {\n",
       "        text-align: right;\n",
       "    }\n",
       "</style>\n",
       "<table border=\"1\" class=\"dataframe\">\n",
       "  <thead>\n",
       "    <tr style=\"text-align: right;\">\n",
       "      <th></th>\n",
       "      <th>airline_sentiment</th>\n",
       "      <th>text</th>\n",
       "    </tr>\n",
       "  </thead>\n",
       "  <tbody>\n",
       "    <tr>\n",
       "      <th>0</th>\n",
       "      <td>1</td>\n",
       "      <td>@VirginAmerica plus you've added commercials to the experience... tacky.</td>\n",
       "    </tr>\n",
       "    <tr>\n",
       "      <th>1</th>\n",
       "      <td>0</td>\n",
       "      <td>@VirginAmerica it's really aggressive to blast obnoxious \"entertainment\" in your guests' faces &amp;amp; they have little recourse</td>\n",
       "    </tr>\n",
       "    <tr>\n",
       "      <th>2</th>\n",
       "      <td>0</td>\n",
       "      <td>@VirginAmerica and it's a really big bad thing about it</td>\n",
       "    </tr>\n",
       "    <tr>\n",
       "      <th>3</th>\n",
       "      <td>0</td>\n",
       "      <td>@VirginAmerica seriously would pay $30 a flight for seats that didn't have this playing.\\nit's really the only bad thing about flying VA</td>\n",
       "    </tr>\n",
       "    <tr>\n",
       "      <th>4</th>\n",
       "      <td>1</td>\n",
       "      <td>@VirginAmerica yes, nearly every time I fly VX this “ear worm” won’t go away :)</td>\n",
       "    </tr>\n",
       "  </tbody>\n",
       "</table>\n",
       "</div>"
      ],
      "text/plain": [
       "   airline_sentiment  \\\n",
       "0                  1   \n",
       "1                  0   \n",
       "2                  0   \n",
       "3                  0   \n",
       "4                  1   \n",
       "\n",
       "                                                                                                                                       text  \n",
       "0                                                                  @VirginAmerica plus you've added commercials to the experience... tacky.  \n",
       "1            @VirginAmerica it's really aggressive to blast obnoxious \"entertainment\" in your guests' faces &amp; they have little recourse  \n",
       "2                                                                                   @VirginAmerica and it's a really big bad thing about it  \n",
       "3  @VirginAmerica seriously would pay $30 a flight for seats that didn't have this playing.\\nit's really the only bad thing about flying VA  \n",
       "4                                                           @VirginAmerica yes, nearly every time I fly VX this “ear worm” won’t go away :)  "
      ]
     },
     "execution_count": 6,
     "metadata": {},
     "output_type": "execute_result"
    }
   ],
   "source": [
    "# Importing the Dataset\n",
    "df = pd.read_csv('../data/airline_sentiment.csv')\n",
    "df.head()"
   ]
  },
  {
   "cell_type": "markdown",
   "id": "e7035f56",
   "metadata": {},
   "source": [
    "---"
   ]
  },
  {
   "attachments": {},
   "cell_type": "markdown",
   "id": "1c7e1285-70ca-4c4c-b907-8a0dc2051cb5",
   "metadata": {},
   "source": [
    "## Preprocessing Data for Training\n",
    "\n",
    "### Normalizing Sentences\n",
    "\n",
    "Normalizing sentences is a crucial step in text preprocessing for tasks like sentiment analysis and text generation. It involves the following actions:\n",
    "\n",
    "- **Remove Special Characters:** Special characters, such as punctuation marks, symbols, or emojis, don't contribute significantly to the sentiment or meaning of a sentence. Removing them allows us to focus on essential words and improves analysis efficiency.\n",
    "\n",
    "- **Convert to Lower Case:** Converting all text to lowercase reduces data dimensionality and ensures that words in different cases (e.g., \"good\" and \"Good\") are treated as the same word. This minimizes duplication and enhances sentiment capture.\n",
    "\n",
    "- **Uniformity and Consistency:** Normalizing sentences ensures consistent, standardized text data. This uniformity aids in creating a consistent representation of words and phrases, facilitating effective pattern recognition in subsequent models.\n",
    "\n",
    "### Removing Stop Words\n",
    "\n",
    "Stop words are common words in a language that carry little meaning in a sentence. Examples include \"a,\" \"the,\" \"and,\" \"is,\" and more. Removing stop words is important for the following reasons:\n",
    "\n",
    "- **Relevance to Specific Words:** Stop words frequently occur in text but often provide little value for sentiment analysis or text generation. Eliminating them helps focus on meaningful and informative words, enhancing context and coherence.\n",
    "\n",
    "- **Noise Reduction:** Stop words can introduce noise and unwanted variation in the text data. Their removal reduces noise, improving the signal-to-noise ratio, leading to more accurate analysis results and predictions.\n",
    "\n",
    "- **Reducing Dimensionality:** Stop words are high-frequency words that appear in nearly every sentence. Removing them decreases data dimensionality, enhancing computational efficiency during model training and inference.\n",
    "\n",
    "---\n"
   ]
  },
  {
   "cell_type": "code",
   "execution_count": 7,
   "id": "b126e338-4896-43cd-a4c3-2a3d8abce629",
   "metadata": {
    "tags": []
   },
   "outputs": [],
   "source": [
    "# Loading English stop words\n",
    "stop = nltk.corpus.stopwords.words('english')"
   ]
  },
  {
   "cell_type": "code",
   "execution_count": 8,
   "id": "3988683c-09bf-456f-a308-4ef5070dbb23",
   "metadata": {
    "tags": []
   },
   "outputs": [],
   "source": [
    "def pre_process_text_data(text: str) -> str:\n",
    "    # Convert the text to lowercase\n",
    "    text = text.lower()\n",
    "\n",
    "    # Remove special characters and symbols using a regular expression\n",
    "    text = re.sub('[^0-9a-zA-Z]+', ' ', text)\n",
    "\n",
    "    # Tokenize the text into words\n",
    "    words = text.split()\n",
    "\n",
    "    # Filter out stopwords (common words that may not contribute much to the text's meaning)\n",
    "    words = [w for w in words if (w not in stop)]\n",
    "\n",
    "    # Rejoin the filtered words to form a preprocessed text\n",
    "    words = ' '.join(words)\n",
    "\n",
    "    return words\n"
   ]
  },
  {
   "cell_type": "code",
   "execution_count": 9,
   "id": "98fb0090-d947-4e5d-9bcb-935291c1ed56",
   "metadata": {
    "tags": []
   },
   "outputs": [
    {
     "data": {
      "text/html": [
       "<div>\n",
       "<style scoped>\n",
       "    .dataframe tbody tr th:only-of-type {\n",
       "        vertical-align: middle;\n",
       "    }\n",
       "\n",
       "    .dataframe tbody tr th {\n",
       "        vertical-align: top;\n",
       "    }\n",
       "\n",
       "    .dataframe thead th {\n",
       "        text-align: right;\n",
       "    }\n",
       "</style>\n",
       "<table border=\"1\" class=\"dataframe\">\n",
       "  <thead>\n",
       "    <tr style=\"text-align: right;\">\n",
       "      <th></th>\n",
       "      <th>airline_sentiment</th>\n",
       "      <th>text</th>\n",
       "    </tr>\n",
       "  </thead>\n",
       "  <tbody>\n",
       "    <tr>\n",
       "      <th>0</th>\n",
       "      <td>1</td>\n",
       "      <td>virginamerica plus added commercials experience tacky</td>\n",
       "    </tr>\n",
       "    <tr>\n",
       "      <th>1</th>\n",
       "      <td>0</td>\n",
       "      <td>virginamerica really aggressive blast obnoxious entertainment guests faces amp little recourse</td>\n",
       "    </tr>\n",
       "    <tr>\n",
       "      <th>2</th>\n",
       "      <td>0</td>\n",
       "      <td>virginamerica really big bad thing</td>\n",
       "    </tr>\n",
       "    <tr>\n",
       "      <th>3</th>\n",
       "      <td>0</td>\n",
       "      <td>virginamerica seriously would pay 30 flight seats playing really bad thing flying va</td>\n",
       "    </tr>\n",
       "    <tr>\n",
       "      <th>4</th>\n",
       "      <td>1</td>\n",
       "      <td>virginamerica yes nearly every time fly vx ear worm go away</td>\n",
       "    </tr>\n",
       "  </tbody>\n",
       "</table>\n",
       "</div>"
      ],
      "text/plain": [
       "   airline_sentiment  \\\n",
       "0                  1   \n",
       "1                  0   \n",
       "2                  0   \n",
       "3                  0   \n",
       "4                  1   \n",
       "\n",
       "                                                                                             text  \n",
       "0                                           virginamerica plus added commercials experience tacky  \n",
       "1  virginamerica really aggressive blast obnoxious entertainment guests faces amp little recourse  \n",
       "2                                                              virginamerica really big bad thing  \n",
       "3            virginamerica seriously would pay 30 flight seats playing really bad thing flying va  \n",
       "4                                     virginamerica yes nearly every time fly vx ear worm go away  "
      ]
     },
     "execution_count": 9,
     "metadata": {},
     "output_type": "execute_result"
    }
   ],
   "source": [
    "df['text'] = df['text'].apply(pre_process_text_data)\n",
    "df.head()"
   ]
  },
  {
   "cell_type": "markdown",
   "id": "8fa49121",
   "metadata": {},
   "source": [
    "---"
   ]
  },
  {
   "attachments": {},
   "cell_type": "markdown",
   "id": "3d978232-d848-43f3-a48a-6cac90c18f9a",
   "metadata": {},
   "source": [
    "## **Checking most used words**"
   ]
  },
  {
   "cell_type": "code",
   "execution_count": 10,
   "id": "b14a6004-9fcf-45ea-9623-aff5bd10a3b0",
   "metadata": {
    "tags": []
   },
   "outputs": [],
   "source": [
    "# Create a Counter object to count word occurrences in text reviews\n",
    "counts = Counter()\n",
    "\n",
    "# Loop through the text reviews in the DataFrame and update the word counts\n",
    "for i, review in enumerate(df['text']):\n",
    "    counts.update(review.split())\n"
   ]
  },
  {
   "cell_type": "code",
   "execution_count": 11,
   "id": "cbd30f06-a179-43cd-b8a5-0aeab410b7e7",
   "metadata": {
    "tags": []
   },
   "outputs": [
    {
     "data": {
      "text/plain": [
       "['united',\n",
       " 'flight',\n",
       " 'usairways',\n",
       " 'americanair',\n",
       " 'southwestair',\n",
       " 'jetblue',\n",
       " 'get',\n",
       " 'cancelled',\n",
       " 'thanks',\n",
       " 'service']"
      ]
     },
     "execution_count": 11,
     "metadata": {},
     "output_type": "execute_result"
    }
   ],
   "source": [
    "# Sort the words by their frequencies in descending order\n",
    "words = sorted(counts, key=counts.get, reverse=True)\n",
    "\n",
    "# Select and print the top 10 most frequent words\n",
    "top_10_words = words[0:10]\n",
    "print(top_10_words)\n"
   ]
  },
  {
   "cell_type": "markdown",
   "id": "760bacec",
   "metadata": {},
   "source": [
    "---"
   ]
  },
  {
   "attachments": {},
   "cell_type": "markdown",
   "id": "eb92d579-609b-4636-b199-4e1a728e7046",
   "metadata": {},
   "source": [
    "## Creating Numeric Representation of Words (Bag of Words)\n",
    "\n",
    "The bag-of-words representation is a technique used to convert text data into a numerical format suitable for machine learning algorithms. It focuses on word frequency, ignoring word order and structure in a sentence. Here's an overview of the steps involved in creating a bag-of-words representation:\n",
    "\n",
    "1. **Tokenization:** The text is split into individual words or tokens, where each token represents a unit of meaning, such as a word or a combination of words.\n",
    "\n",
    "2. **Vocabulary Creation:** All unique tokens in the text data are collected to create a vocabulary or dictionary. This vocabulary represents the set of possible features for the bag-of-words representation.\n",
    "\n",
    "3. **Frequency Count:** For each document or sentence in the text data, the frequency of each token in the vocabulary is counted. This creates a numerical representation, where each entry represents the frequency of a specific token in a particular document.\n",
    "\n",
    "4. **Checking Sequence Length and Padding:** Sentence lengths may vary. To address this, the sequence length is checked, and padding is applied to ensure all sequences have the same length.\n",
    "\n",
    "The resulting bag-of-words representation is usually a matrix where each row represents a document or sentence, and each column corresponds to a token in the vocabulary. The values in the matrix indicate the frequency of each token in the respective document.\n",
    "\n",
    "**Example:**\n",
    "\n",
    "| Document  | Word1 | Word2 | Word3 | Word4 | Word5 |\n",
    "|-----------|-------|-------|-------|-------|-------|\n",
    "| Sentence1 | 2     | 1     | 0     | 1     | 0     |\n",
    "| Sentence2 | 0     | 1     | 1     | 0     | 1     |\n",
    "| Sentence3 | 1     | 0     | 0     | 1     | 1     |\n",
    "| Sentence4 | 0     | 1     | 0     | 0     | 0     |\n",
    "\n",
    "In this example, there are four sentences (Sentence1, Sentence2, Sentence3, and Sentence4) with five unique words (Word1, Word2, Word3, Word4, and Word5). The table represents the bag-of-words representation, with each entry indicating the frequency of the corresponding word in the respective sentence. For example, in Sentence1, Word1 occurs twice, Word2 occurs once, and so on.\n",
    "\n",
    "---\n"
   ]
  },
  {
   "cell_type": "code",
   "execution_count": 13,
   "id": "d3ca371c-e4de-4f64-89f5-61108c021809",
   "metadata": {
    "tags": []
   },
   "outputs": [],
   "source": [
    "# Create a dictionary that maps words to unique integer values, starting from 1\n",
    "word_to_int = {word: i for i, word in enumerate(words, start=1)}\n",
    "\n",
    "# Create a dictionary that maps integer values to words\n",
    "int_to_word = {i: word for i, word in enumerate(words, start=1)}\n"
   ]
  },
  {
   "cell_type": "code",
   "execution_count": 14,
   "id": "cd6dea37-2c71-44ce-8402-8c1cc5238ecf",
   "metadata": {
    "tags": []
   },
   "outputs": [],
   "source": [
    "def text_to_int(text: str, word_to_int: dict):\n",
    "    # Split the input text into words and convert each word to its corresponding integer using the word_to_int dictionary\n",
    "    return [word_to_int[word] for word in text.split()]\n",
    "\n",
    "def int_to_text(int_arr, int_to_word: dict):\n",
    "    # Join the list of integers into a string of words, using the int_to_word dictionary to map integers back to words\n",
    "    return ' '.join([int_to_word[index] for index in int_arr if index != 0])\n"
   ]
  },
  {
   "cell_type": "code",
   "execution_count": 15,
   "id": "5a158248-7fe8-43c2-9ef6-84f7e10b3e8b",
   "metadata": {
    "tags": []
   },
   "outputs": [],
   "source": [
    "# Create an empty list to store the mapped reviews\n",
    "mapped_reviews = []\n",
    "\n",
    "# Loop through the text reviews in the DataFrame and convert each review to a list of integers using text_to_int function\n",
    "for review in df['text']:\n",
    "    mapped_reviews.append(text_to_int(review, word_to_int))\n"
   ]
  },
  {
   "cell_type": "code",
   "execution_count": 16,
   "id": "4b3aa841-1724-4750-9c53-87eb2a34a5e3",
   "metadata": {
    "tags": []
   },
   "outputs": [
    {
     "name": "stdout",
     "output_type": "stream",
     "text": [
      "Original text: virginamerica plus added commercials experience tacky\n",
      "Mapped text: [44, 450, 1142, 2233, 100, 5429]\n"
     ]
    }
   ],
   "source": [
    "# Print the original text from the DataFrame at index 0\n",
    "print(f'Original text: {df.loc[0][\"text\"]}')\n",
    "\n",
    "# Print the mapped version of the text from the first review\n",
    "print(f'Mapped text: {mapped_reviews[0]}')\n"
   ]
  },
  {
   "cell_type": "code",
   "execution_count": 17,
   "id": "eec94556-0a3f-40d9-ac69-6bae85c21bc1",
   "metadata": {
    "tags": []
   },
   "outputs": [],
   "source": [
    "# Create an empty list to store the lengths of mapped reviews\n",
    "length_sent = []\n",
    "\n",
    "# Loop through the mapped reviews and calculate the length (number of words) of each review\n",
    "for i in range(len(mapped_reviews)):\n",
    "    length_sent.append(len(mapped_reviews[i]))\n"
   ]
  },
  {
   "cell_type": "markdown",
   "id": "cd68d664",
   "metadata": {},
   "source": [
    "---"
   ]
  },
  {
   "attachments": {},
   "cell_type": "markdown",
   "id": "23d75bf5-0024-4998-80b5-471af44be311",
   "metadata": {},
   "source": [
    "## **Checking sequence length and padding accordingly**"
   ]
  },
  {
   "cell_type": "code",
   "execution_count": 18,
   "id": "bbf03aea-686d-43a5-87a7-4e87acb094f4",
   "metadata": {
    "tags": []
   },
   "outputs": [],
   "source": [
    "# Calculate the sequence_length as the maximum length among all mapped reviews\n",
    "sequence_length = max(length_sent)\n",
    "\n",
    "# Use the pad_sequences function to pad the mapped_reviews\n",
    "X = pad_sequences(maxlen=sequence_length, sequences=mapped_reviews, padding=\"post\", value=0)\n"
   ]
  },
  {
   "cell_type": "code",
   "execution_count": 19,
   "id": "918a9dc5-55c7-4edc-b8d0-37fb34aafa53",
   "metadata": {
    "tags": []
   },
   "outputs": [
    {
     "data": {
      "text/plain": [
       "array([  44,  450, 1142, 2233,  100, 5429,    0,    0,    0,    0,    0,\n",
       "          0,    0,    0,    0,    0,    0,    0,    0,    0,    0,    0,\n",
       "          0,    0,    0,    0])"
      ]
     },
     "execution_count": 19,
     "metadata": {},
     "output_type": "execute_result"
    }
   ],
   "source": [
    "X[0]"
   ]
  },
  {
   "cell_type": "code",
   "execution_count": 20,
   "id": "3a62fc56-7eb0-4f9d-ac69-76f6bf3e466d",
   "metadata": {
    "tags": []
   },
   "outputs": [],
   "source": [
    "y = df['airline_sentiment'].values"
   ]
  },
  {
   "cell_type": "markdown",
   "id": "d835c77a",
   "metadata": {},
   "source": [
    "---"
   ]
  },
  {
   "attachments": {},
   "cell_type": "markdown",
   "id": "dccdd1fc-aa41-44d4-966e-92e25d20df3f",
   "metadata": {},
   "source": [
    "## **Creating LSTM Model**"
   ]
  },
  {
   "cell_type": "code",
   "execution_count": 21,
   "id": "94a94d87-19a4-49a3-9478-4254fada66e3",
   "metadata": {
    "tags": []
   },
   "outputs": [],
   "source": [
    "# Set the embedding vector length to 32\n",
    "embedding_vecor_length = 32\n",
    "\n",
    "# Set the maximum review length to 26\n",
    "max_review_length = 26\n"
   ]
  },
  {
   "cell_type": "code",
   "execution_count": 22,
   "id": "b21f4b95-583e-4985-af99-5365223129b3",
   "metadata": {
    "tags": []
   },
   "outputs": [],
   "source": [
    "# Create a Sequential model\n",
    "model = Sequential()\n",
    "\n",
    "# Add an embedding layer with an input dimension of 12533, output dimension of 32, and input length of 26\n",
    "model.add(Embedding(input_dim=12533, output_dim=32, input_length=26))\n",
    "\n",
    "# Add the first LSTM layer with 40 units and return sequences (used for stacking LSTM layers)\n",
    "model.add(LSTM(40, return_sequences=True))\n",
    "\n",
    "# Add the second LSTM layer with 40 units and return sequences set to False (final LSTM layer)\n",
    "model.add(LSTM(40, return_sequences=False))\n",
    "\n",
    "# Add a Dense layer with 2 units and softmax activation (common for binary classification)\n",
    "model.add(Dense(2, activation='softmax'))\n",
    "\n",
    "# Compile the model with categorical cross-entropy loss and the Adam optimizer, and measure accuracy during training\n",
    "model.compile(loss='categorical_crossentropy', optimizer='adam', metrics=['accuracy'])\n"
   ]
  },
  {
   "cell_type": "code",
   "execution_count": 23,
   "id": "6ee269b2-3df0-4371-aa7a-a70c225ec7cb",
   "metadata": {
    "tags": []
   },
   "outputs": [
    {
     "name": "stdout",
     "output_type": "stream",
     "text": [
      "Model: \"sequential\"\n",
      "_________________________________________________________________\n",
      " Layer (type)                Output Shape              Param #   \n",
      "=================================================================\n",
      " embedding (Embedding)       (None, 26, 32)            401056    \n",
      "                                                                 \n",
      " lstm (LSTM)                 (None, 26, 40)            11680     \n",
      "                                                                 \n",
      " lstm_1 (LSTM)               (None, 40)                12960     \n",
      "                                                                 \n",
      " dense (Dense)               (None, 2)                 82        \n",
      "                                                                 \n",
      "=================================================================\n",
      "Total params: 425,778\n",
      "Trainable params: 425,778\n",
      "Non-trainable params: 0\n",
      "_________________________________________________________________\n",
      "None\n"
     ]
    }
   ],
   "source": [
    "print(model.summary())"
   ]
  },
  {
   "cell_type": "markdown",
   "id": "9bd29197",
   "metadata": {},
   "source": [
    "---"
   ]
  },
  {
   "attachments": {},
   "cell_type": "markdown",
   "id": "c65953e9-6e92-41ad-820b-3b5020245f9f",
   "metadata": {},
   "source": [
    "## **Preparing data for training and validation**"
   ]
  },
  {
   "cell_type": "code",
   "execution_count": 24,
   "id": "a9848c86-31b7-4f36-ae64-cc4468f90071",
   "metadata": {
    "tags": []
   },
   "outputs": [],
   "source": [
    "X_train, X_test, y_train, y_test = train_test_split(X, y, test_size=0.30, random_state=10)"
   ]
  },
  {
   "attachments": {},
   "cell_type": "markdown",
   "id": "8c36922c-6f1e-41bd-ae76-30e4136c56ff",
   "metadata": {},
   "source": [
    "## **One-hot-encoding**"
   ]
  },
  {
   "cell_type": "code",
   "execution_count": 25,
   "id": "50ddca1a-8d90-4f5b-957f-b26cb85f0539",
   "metadata": {
    "tags": []
   },
   "outputs": [],
   "source": [
    "y_train = to_categorical(y_train)\n",
    "y_test = to_categorical(y_test)"
   ]
  },
  {
   "attachments": {},
   "cell_type": "markdown",
   "id": "220f6659-5c51-4a63-9b58-27d6591271bf",
   "metadata": {},
   "source": [
    "## **Training**"
   ]
  },
  {
   "cell_type": "code",
   "execution_count": 26,
   "id": "18a3b18c-aa25-48ff-b59a-4c8a5795216c",
   "metadata": {
    "tags": []
   },
   "outputs": [
    {
     "name": "stdout",
     "output_type": "stream",
     "text": [
      "Epoch 1/50\n",
      "253/253 [==============================] - 7s 18ms/step - loss: 0.3540 - accuracy: 0.8581 - val_loss: 0.2151 - val_accuracy: 0.9090\n",
      "Epoch 2/50\n",
      "253/253 [==============================] - 4s 16ms/step - loss: 0.1457 - accuracy: 0.9495 - val_loss: 0.2179 - val_accuracy: 0.9194\n",
      "Epoch 3/50\n",
      "253/253 [==============================] - 4s 16ms/step - loss: 0.0763 - accuracy: 0.9752 - val_loss: 0.2963 - val_accuracy: 0.9174\n",
      "Epoch 4/50\n",
      "253/253 [==============================] - 4s 16ms/step - loss: 0.0437 - accuracy: 0.9860 - val_loss: 0.3533 - val_accuracy: 0.8908\n",
      "Epoch 5/50\n",
      "253/253 [==============================] - 4s 18ms/step - loss: 0.0335 - accuracy: 0.9889 - val_loss: 0.3947 - val_accuracy: 0.9116\n",
      "Epoch 6/50\n",
      "253/253 [==============================] - 4s 18ms/step - loss: 0.0234 - accuracy: 0.9936 - val_loss: 0.3262 - val_accuracy: 0.9012\n",
      "Epoch 7/50\n",
      "253/253 [==============================] - 4s 17ms/step - loss: 0.0177 - accuracy: 0.9954 - val_loss: 0.5257 - val_accuracy: 0.9012\n",
      "Epoch 8/50\n",
      "253/253 [==============================] - 4s 17ms/step - loss: 0.0148 - accuracy: 0.9962 - val_loss: 0.3979 - val_accuracy: 0.9012\n",
      "Epoch 9/50\n",
      "253/253 [==============================] - 4s 16ms/step - loss: 0.0135 - accuracy: 0.9967 - val_loss: 0.5139 - val_accuracy: 0.8975\n",
      "Epoch 10/50\n",
      "253/253 [==============================] - 4s 16ms/step - loss: 0.0112 - accuracy: 0.9973 - val_loss: 0.4935 - val_accuracy: 0.8986\n",
      "Epoch 11/50\n",
      "253/253 [==============================] - 4s 16ms/step - loss: 0.0079 - accuracy: 0.9983 - val_loss: 0.5624 - val_accuracy: 0.8952\n",
      "Epoch 12/50\n",
      "253/253 [==============================] - 4s 16ms/step - loss: 0.0088 - accuracy: 0.9981 - val_loss: 0.4811 - val_accuracy: 0.8978\n",
      "Epoch 13/50\n",
      "253/253 [==============================] - 4s 16ms/step - loss: 0.0126 - accuracy: 0.9969 - val_loss: 0.4964 - val_accuracy: 0.9004\n",
      "Epoch 14/50\n",
      "253/253 [==============================] - 4s 16ms/step - loss: 0.0108 - accuracy: 0.9974 - val_loss: 0.4832 - val_accuracy: 0.9047\n",
      "Epoch 15/50\n",
      "253/253 [==============================] - 4s 16ms/step - loss: 0.0076 - accuracy: 0.9983 - val_loss: 0.6435 - val_accuracy: 0.9024\n",
      "Epoch 16/50\n",
      "253/253 [==============================] - 4s 17ms/step - loss: 0.0153 - accuracy: 0.9969 - val_loss: 0.5102 - val_accuracy: 0.9050\n",
      "Epoch 17/50\n",
      "253/253 [==============================] - 5s 18ms/step - loss: 0.0079 - accuracy: 0.9981 - val_loss: 0.6562 - val_accuracy: 0.8989\n",
      "Epoch 18/50\n",
      "253/253 [==============================] - 5s 18ms/step - loss: 0.0133 - accuracy: 0.9968 - val_loss: 0.5780 - val_accuracy: 0.8975\n",
      "Epoch 19/50\n",
      "253/253 [==============================] - 5s 18ms/step - loss: 0.0058 - accuracy: 0.9988 - val_loss: 0.5678 - val_accuracy: 0.8943\n",
      "Epoch 20/50\n",
      "253/253 [==============================] - 5s 18ms/step - loss: 0.0041 - accuracy: 0.9994 - val_loss: 0.6605 - val_accuracy: 0.9010\n",
      "Epoch 21/50\n",
      "253/253 [==============================] - 5s 18ms/step - loss: 0.0039 - accuracy: 0.9994 - val_loss: 0.6309 - val_accuracy: 0.9012\n",
      "Epoch 22/50\n",
      "253/253 [==============================] - 5s 21ms/step - loss: 0.0036 - accuracy: 0.9995 - val_loss: 0.6379 - val_accuracy: 0.8995\n",
      "Epoch 23/50\n",
      "253/253 [==============================] - 11s 42ms/step - loss: 0.0113 - accuracy: 0.9975 - val_loss: 0.6425 - val_accuracy: 0.8871\n",
      "Epoch 24/50\n",
      "253/253 [==============================] - 13s 52ms/step - loss: 0.0090 - accuracy: 0.9981 - val_loss: 0.5042 - val_accuracy: 0.9027\n",
      "Epoch 25/50\n",
      "253/253 [==============================] - 13s 53ms/step - loss: 0.0075 - accuracy: 0.9983 - val_loss: 0.4995 - val_accuracy: 0.8802\n",
      "Epoch 26/50\n",
      "253/253 [==============================] - 12s 47ms/step - loss: 0.0063 - accuracy: 0.9990 - val_loss: 0.6839 - val_accuracy: 0.8975\n",
      "Epoch 27/50\n",
      "253/253 [==============================] - 4s 17ms/step - loss: 0.0091 - accuracy: 0.9980 - val_loss: 0.5074 - val_accuracy: 0.8992\n",
      "Epoch 28/50\n",
      "253/253 [==============================] - 4s 16ms/step - loss: 0.0050 - accuracy: 0.9991 - val_loss: 0.5751 - val_accuracy: 0.9004\n",
      "Epoch 29/50\n",
      "253/253 [==============================] - 4s 16ms/step - loss: 0.0076 - accuracy: 0.9981 - val_loss: 0.6435 - val_accuracy: 0.8943\n",
      "Epoch 30/50\n",
      "253/253 [==============================] - 5s 20ms/step - loss: 0.0031 - accuracy: 0.9995 - val_loss: 0.6693 - val_accuracy: 0.8949\n",
      "Epoch 31/50\n",
      "253/253 [==============================] - 5s 21ms/step - loss: 0.0062 - accuracy: 0.9989 - val_loss: 0.5200 - val_accuracy: 0.8807\n",
      "Epoch 32/50\n",
      "253/253 [==============================] - 5s 19ms/step - loss: 0.0072 - accuracy: 0.9985 - val_loss: 0.5985 - val_accuracy: 0.8943\n",
      "Epoch 33/50\n",
      "253/253 [==============================] - 4s 18ms/step - loss: 0.0091 - accuracy: 0.9978 - val_loss: 0.5835 - val_accuracy: 0.8958\n",
      "Epoch 34/50\n",
      "253/253 [==============================] - 5s 19ms/step - loss: 0.0042 - accuracy: 0.9994 - val_loss: 0.6137 - val_accuracy: 0.8958\n",
      "Epoch 35/50\n",
      "253/253 [==============================] - 5s 19ms/step - loss: 0.0026 - accuracy: 0.9996 - val_loss: 0.7093 - val_accuracy: 0.8949\n",
      "Epoch 36/50\n",
      "253/253 [==============================] - 11s 46ms/step - loss: 0.0058 - accuracy: 0.9986 - val_loss: 0.4797 - val_accuracy: 0.8963\n",
      "Epoch 37/50\n",
      "253/253 [==============================] - 13s 51ms/step - loss: 0.0061 - accuracy: 0.9985 - val_loss: 0.7170 - val_accuracy: 0.8960\n",
      "Epoch 38/50\n",
      "253/253 [==============================] - 13s 51ms/step - loss: 0.0080 - accuracy: 0.9978 - val_loss: 0.6154 - val_accuracy: 0.8958\n",
      "Epoch 39/50\n",
      "253/253 [==============================] - 12s 47ms/step - loss: 0.0044 - accuracy: 0.9991 - val_loss: 0.6723 - val_accuracy: 0.8937\n",
      "Epoch 40/50\n",
      "253/253 [==============================] - 13s 50ms/step - loss: 0.0032 - accuracy: 0.9990 - val_loss: 0.5513 - val_accuracy: 0.8972\n",
      "Epoch 41/50\n",
      "253/253 [==============================] - 13s 50ms/step - loss: 0.0019 - accuracy: 0.9996 - val_loss: 0.7484 - val_accuracy: 0.8926\n",
      "Epoch 42/50\n",
      "253/253 [==============================] - 12s 49ms/step - loss: 0.0022 - accuracy: 0.9995 - val_loss: 0.6760 - val_accuracy: 0.8969\n",
      "Epoch 43/50\n",
      "253/253 [==============================] - 12s 49ms/step - loss: 0.0020 - accuracy: 0.9995 - val_loss: 0.7797 - val_accuracy: 0.8958\n",
      "Epoch 44/50\n",
      "253/253 [==============================] - 12s 48ms/step - loss: 0.0016 - accuracy: 0.9998 - val_loss: 0.7961 - val_accuracy: 0.9007\n",
      "Epoch 45/50\n",
      "253/253 [==============================] - 13s 50ms/step - loss: 0.0015 - accuracy: 0.9998 - val_loss: 0.8050 - val_accuracy: 0.8998\n",
      "Epoch 46/50\n",
      "253/253 [==============================] - 12s 49ms/step - loss: 0.0015 - accuracy: 0.9998 - val_loss: 0.7696 - val_accuracy: 0.8978\n",
      "Epoch 47/50\n",
      "253/253 [==============================] - 12s 47ms/step - loss: 0.0015 - accuracy: 0.9996 - val_loss: 0.8013 - val_accuracy: 0.8981\n",
      "Epoch 48/50\n",
      "253/253 [==============================] - 12s 47ms/step - loss: 0.0014 - accuracy: 0.9996 - val_loss: 0.8156 - val_accuracy: 0.8969\n",
      "Epoch 49/50\n",
      "253/253 [==============================] - 12s 49ms/step - loss: 0.0014 - accuracy: 0.9996 - val_loss: 0.8213 - val_accuracy: 0.8972\n",
      "Epoch 50/50\n",
      "253/253 [==============================] - 13s 52ms/step - loss: 0.0015 - accuracy: 0.9996 - val_loss: 0.8165 - val_accuracy: 0.9007\n"
     ]
    }
   ],
   "source": [
    "# Train the model with the training data\n",
    "history = model.fit(X_train, y_train, validation_data=(X_test, y_test), epochs=50, batch_size=32)\n"
   ]
  },
  {
   "cell_type": "code",
   "execution_count": 27,
   "id": "9dc89ea9-5ece-44ea-80bd-2ce4157a0da3",
   "metadata": {
    "tags": []
   },
   "outputs": [],
   "source": [
    "%matplotlib inline\n",
    "\n",
    "# Extract the training history from the 'history' object\n",
    "history_dict = history.history\n",
    "\n",
    "# Extract the training and validation loss values\n",
    "loss_values = history_dict['loss']\n",
    "val_loss_values = history_dict['val_loss']\n",
    "\n",
    "# Extract the training and validation accuracy values\n",
    "acc_values = history_dict['accuracy']\n",
    "val_acc_values = history_dict['val_accuracy']\n",
    "\n",
    "# Define the range of epochs\n",
    "epochs = range(1, len(val_loss_values) + 1)\n"
   ]
  },
  {
   "cell_type": "code",
   "execution_count": 28,
   "id": "157d56ca-3c44-42a9-ada9-c02a3d484c38",
   "metadata": {
    "tags": []
   },
   "outputs": [
    {
     "data": {
      "image/png": "[encoded data removed]",
      "text/plain": [
       "<Figure size 640x480 with 1 Axes>"
      ]
     },
     "metadata": {},
     "output_type": "display_data"
    }
   ],
   "source": [
    "# Create a subplot with 2 rows and 1 column, and select the first subplot (upper part)\n",
    "plt.subplot(211)\n",
    "\n",
    "# Plot the training loss as blue dots ('bo')\n",
    "plt.plot(epochs, history.history['loss'], 'bo', label='Training loss')\n",
    "plt.title('Training Loss')\n",
    "plt.xlabel('Epochs')\n",
    "plt.ylabel('Loss')\n",
    "plt.legend()\n",
    "plt.grid('off')\n",
    "\n",
    "plt.show()\n"
   ]
  },
  {
   "cell_type": "code",
   "execution_count": 29,
   "id": "c8ae7e0e-8999-49d4-9f62-084612262504",
   "metadata": {
    "tags": []
   },
   "outputs": [
    {
     "data": {
      "image/png": "[encoded data removed]",
      "text/plain": [
       "<Figure size 640x480 with 1 Axes>"
      ]
     },
     "metadata": {},
     "output_type": "display_data"
    }
   ],
   "source": [
    "# Create a subplot with 2 rows and 1 column, and select the second subplot (lower part)\n",
    "plt.subplot(212)\n",
    "\n",
    "# Plot the training accuracy as blue dots ('bo')\n",
    "plt.plot(epochs, history.history['accuracy'], 'bo', label='Training accuracy')\n",
    "plt.title('Training accuracy')\n",
    "plt.xlabel('Epochs')\n",
    "plt.ylabel('Accuracy')\n",
    "\n",
    "# Format the y-axis tick labels to display percentages\n",
    "plt.gca().set_yticklabels(['{:.0f}%'.format(x * 100) for x in plt.gca().get_yticks()])\n",
    "plt.legend()\n",
    "plt.grid(False)\n",
    "\n",
    "plt.show()\n"
   ]
  },
  {
   "cell_type": "markdown",
   "id": "242d7b0c",
   "metadata": {},
   "source": [
    "---"
   ]
  },
  {
   "attachments": {},
   "cell_type": "markdown",
   "id": "81ec1114-2b17-48dc-a357-5c46673cc87c",
   "metadata": {},
   "source": [
    "## **Anecdotes**"
   ]
  },
  {
   "cell_type": "code",
   "execution_count": 30,
   "id": "38cceeeb-b31a-41ed-ae72-b221d7d7d834",
   "metadata": {
    "tags": []
   },
   "outputs": [],
   "source": [
    "def get_sentiment(model, text) -> str:\n",
    "    # Convert the input text to a list of integers using the text_to_int function\n",
    "    text_int_embedding = text_to_int(text, word_to_int)\n",
    "    \n",
    "    # Pad the list of integers to match the sequence length\n",
    "    text_int_embedding = pad_sequences(maxlen=sequence_length, sequences=[text_int_embedding], padding=\"post\", value=0)\n",
    "    \n",
    "    # Predict the sentiment using the model and get the index of the predicted class\n",
    "    sentiment_index = np.argmax(model.predict(text_int_embedding))\n",
    "    \n",
    "    # Return the sentiment index as a string\n",
    "    return sentiment_index\n"
   ]
  },
  {
   "cell_type": "code",
   "execution_count": 31,
   "id": "729bb8a0-a6dd-4371-9727-997f9c50458e",
   "metadata": {
    "tags": []
   },
   "outputs": [
    {
     "name": "stdout",
     "output_type": "stream",
     "text": [
      "109/109 [==============================] - 1s 5ms/step\n"
     ]
    }
   ],
   "source": [
    "# Use the trained model to make predictions on the test data (X_test)\n",
    "# The result will be an array of predicted sentiment labels\n",
    "result = np.argmax(model.predict(X_test), axis=1)\n"
   ]
  },
  {
   "cell_type": "code",
   "execution_count": 32,
   "id": "710bcbfc-7528-4d7a-bc35-ca71913ee41a",
   "metadata": {
    "tags": []
   },
   "outputs": [],
   "source": [
    "# Create a list of positive sentences by iterating through the test data\n",
    "# and selecting sentences for which the model's prediction is labeled as 1 (positive sentiment)\n",
    "positive_sentences = [int_to_text(embedding, int_to_word) for i, embedding in enumerate(X_test) if result[i] == 1]\n"
   ]
  },
  {
   "cell_type": "code",
   "execution_count": 33,
   "id": "fdef917a-c279-4d57-b11f-058560bf7f2d",
   "metadata": {
    "tags": []
   },
   "outputs": [],
   "source": [
    "# Create a list of negative sentences by iterating through the test data\n",
    "# and selecting sentences for which the model's prediction is labeled as 0 (negative sentiment)\n",
    "negative_sentences = [int_to_text(embedding, int_to_word) for i, embedding in enumerate(X_test) if result[i] == 0]\n"
   ]
  },
  {
   "cell_type": "code",
   "execution_count": 34,
   "id": "cec25941-c298-469a-a099-79dfdb9b7e0d",
   "metadata": {
    "tags": []
   },
   "outputs": [
    {
     "data": {
      "text/plain": [
       "['jetblue flight flight booking problems experience pretty great',\n",
       " 'southwestair leeannhealey yeah sale fares got places fly oh damn right live swa fly',\n",
       " 'jetblue news gate options',\n",
       " 'jetblue utah think thanks',\n",
       " 'united flight new york love quality planes united wtf crappy aviation newyork http co zv6cfpohl5']"
      ]
     },
     "execution_count": 34,
     "metadata": {},
     "output_type": "execute_result"
    }
   ],
   "source": [
    "positive_sentences[:5]"
   ]
  },
  {
   "cell_type": "code",
   "execution_count": 35,
   "id": "c6597156-a767-4065-8e23-c26d12d71590",
   "metadata": {
    "tags": []
   },
   "outputs": [
    {
     "data": {
      "text/plain": [
       "['usairways glad airline going swallowed american american always picks phone solves problems',\n",
       " 'southwestair disconnected call 2 5 hours without even speaking octaviannightmare',\n",
       " 'americanair well done taken fun air travel phlairport',\n",
       " 'usairways told coded upgrade clearly purchased seat miles refuse downgrade ripoff',\n",
       " 'rt virginamerica met match got status another airline upgrade restr http co rhkamx9vf5 http co pyalebgkjt']"
      ]
     },
     "execution_count": 35,
     "metadata": {},
     "output_type": "execute_result"
    }
   ],
   "source": [
    "negative_sentences[:5]"
   ]
  },
  {
   "cell_type": "markdown",
   "id": "407805c7",
   "metadata": {},
   "source": [
    "---"
   ]
  },
  {
   "attachments": {},
   "cell_type": "markdown",
   "id": "ef70e236-27b3-4947-aaa1-7645ddb3a16b",
   "metadata": {},
   "source": [
    "## Generating Text\n",
    "\n",
    "### Overview\n",
    "\n",
    "To generate text, we will follow the following strategy:\n",
    "\n",
    "1. **Data Import:** We'll start by importing Project Gutenberg's dataset of \"Alice's Adventures in Wonderland,\" which can be downloaded [here](https://www.gutenberg.org/files/11/11-0.txt).\n",
    "\n",
    "2. **Data Preprocessing:** We'll preprocess the text data by converting all text to lowercase and removing punctuation.\n",
    "\n",
    "3. **Vocabulary Building:** We'll construct a vocabulary by counting the occurrences of unique words in the text. Words will be sorted based on frequency, and each word will be assigned a unique index.\n",
    "\n",
    "4. **Sequence Generation:** To train our model, we need input-output pairs in the form of sequences. We'll use a sliding window approach to create input sequences and their subsequent output words.\n",
    "\n",
    "5. **Data Encoding:** To feed data into the LSTM model, we'll encode input and output sequences. One-hot encoding will be used to represent words as binary vectors, indicating their presence in the sequence.\n",
    "\n",
    "6. **Model Architecture:** Our model will consist of an LSTM layer, a dense (fully connected) layer, and a softmax activation function. This architecture enables the model to learn patterns and generate text.\n",
    "\n",
    "7. **Training the Model:** The model will be trained using input-output pairs from the text data. It learns to minimize the difference between predicted and actual outputs using an optimizer (e.g., Adam) and a loss function (categorical cross-entropy).\n",
    "\n",
    "8. **Generating Text:** To generate text, we provide a seed sequence to the trained model. The model predicts the next word, appends it to the input sequence, and repeats the process. This iterative prediction allows us to generate text that follows the style and patterns learned during training.\n",
    "\n",
    "### Detailed Steps\n",
    "\n",
    "- **Input Preparation:**\n",
    "    - Convert text to lowercase and remove non-alphanumeric characters.\n",
    "    - Split the text into individual words.\n",
    "\n",
    "- **Vocabulary Building:**\n",
    "    - Build a vocabulary by counting unique word occurrences.\n",
    "    - Assign unique indices to words.\n",
    "\n",
    "- **Sequence Generation:**\n",
    "    - Use a sliding window approach to create input-output pairs.\n",
    "    - Slide the window with a specified step size.\n",
    "\n",
    "- **Encoding the Data:**\n",
    "    - Apply one-hot encoding to represent words as binary vectors.\n",
    "    - Convert input data to a 3D array and output data to a 2D array.\n",
    "\n",
    "- **Model Architecture:**\n",
    "    - Construct a many-to-one LSTM model.\n",
    "    - Use input and LSTM layers to capture temporal dependencies.\n",
    "    - Employ a dense layer with a softmax activation function.\n",
    "\n",
    "- **Training the Model:**\n",
    "    - Train the model using input-output pairs.\n",
    "    - Minimize the difference between predicted and actual outputs.\n",
    "    - Update model parameters with an optimizer and a loss function.\n",
    "\n",
    "- **Generating Text:**\n",
    "    - Provide a seed sequence to the model.\n",
    "    - Predict the next word iteratively based on the input.\n",
    "    - Append the predicted word to the input sequence to generate subsequent words.\n",
    "\n",
    "---\n"
   ]
  },
  {
   "cell_type": "code",
   "execution_count": 38,
   "id": "97dfabac-8153-47e1-8e63-5f5fb864d5e7",
   "metadata": {
    "tags": []
   },
   "outputs": [],
   "source": [
    "def load_data(filename: str = '../data/alice.txt'):\n",
    "    # Open the specified file for reading\n",
    "    with open(filename, encoding='utf-8-sig') as fin:\n",
    "        lines = []\n",
    "        for line in fin:\n",
    "            # Strip leading and trailing whitespace, and convert the line to lowercase\n",
    "            line = line.strip().lower()\n",
    "            \n",
    "            # Check if the line is empty, and if so, skip it\n",
    "            if (len(line) == 0):\n",
    "                continue\n",
    "            \n",
    "            # Append the processed line to the list of lines\n",
    "            lines.append(line)\n",
    "        \n",
    "        # Close the file\n",
    "        fin.close()\n",
    "        \n",
    "        # Combine the lines into a single string with spaces in between\n",
    "        text = \" \".join(lines)\n",
    "    \n",
    "    # Return the concatenated text\n",
    "    return text\n"
   ]
  },
  {
   "cell_type": "code",
   "execution_count": 39,
   "id": "924ea3e5-666e-4cc5-bd3a-f54d52ab5a34",
   "metadata": {
    "tags": []
   },
   "outputs": [],
   "source": [
    "text = load_data()"
   ]
  },
  {
   "cell_type": "code",
   "execution_count": 40,
   "id": "f78a57f8-779c-4b53-b0d9-78961433798e",
   "metadata": {
    "tags": []
   },
   "outputs": [
    {
     "data": {
      "text/plain": [
       "'moment to think about stopping herself before she found herself falling down a very deep well. either the well was very deep, or she fell very slowly, for she had plenty of time as she went down to look about her and to wonder what was going to happen next. first, she tried to look down and make out what she was coming to, but it was too dark to see anything; then she looked at the sides of the well, and noticed that they were filled with cupboards and book-shelves; here and there she saw maps '"
      ]
     },
     "execution_count": 40,
     "metadata": {},
     "output_type": "execute_result"
    }
   ],
   "source": [
    "text[3001:3500]"
   ]
  },
  {
   "attachments": {},
   "cell_type": "markdown",
   "id": "ca9468a7-6e27-40db-9a5f-257354c5567e",
   "metadata": {},
   "source": [
    "Normalize the text to remove punctuations and convert it to lowercase\n",
    "\n"
   ]
  },
  {
   "cell_type": "code",
   "execution_count": 41,
   "id": "3aaefc7c-1473-4f1b-b680-1598c9333368",
   "metadata": {
    "tags": []
   },
   "outputs": [],
   "source": [
    "def pre_process(text: str) -> str:\n",
    "    # Convert the text to lowercase\n",
    "    text = text.lower()\n",
    "    \n",
    "    # Remove non-alphanumeric characters and replace them with spaces\n",
    "    text = re.sub('[^0-9a-zA-Z]+', ' ', text)\n",
    "    \n",
    "    # Return the preprocessed text\n",
    "    return text\n"
   ]
  },
  {
   "attachments": {},
   "cell_type": "markdown",
   "id": "e6f81900-f446-4f46-8a72-97184ac0eaab",
   "metadata": {},
   "source": [
    "Assign the unique words to an index so that they can be referenced when constructing the training and test datasets "
   ]
  },
  {
   "cell_type": "code",
   "execution_count": 42,
   "id": "f4925b6b-e392-4da8-9462-2814fa094d6c",
   "metadata": {
    "tags": []
   },
   "outputs": [],
   "source": [
    "# Create a Counter to count the frequency of each word in the text\n",
    "counts = Counter()\n",
    "\n",
    "# Update the counter with the words in the text (text.split() splits the text into words)\n",
    "counts.update(text.split())\n",
    "\n",
    "# Create a list of unique words (sorted by frequency, in descending order)\n",
    "words = sorted(counts, key=counts.get, reverse=True)\n",
    "\n",
    "# Calculate the total number of words in the text\n",
    "nb_words = len(text.split())\n",
    "\n",
    "# Create a word-to-index mapping (word2index) and an index-to-word mapping (index2word)\n",
    "word2index = {word: i for i, word in enumerate(words)}\n",
    "index2word = {i: word for i, word in enumerate(words)}\n"
   ]
  },
  {
   "attachments": {},
   "cell_type": "markdown",
   "id": "8bb195e3-9e8a-43a8-844a-cd08fb4c081c",
   "metadata": {},
   "source": [
    "### Preparing the Data"
   ]
  },
  {
   "cell_type": "code",
   "execution_count": 43,
   "id": "b26eadbf-2f36-490f-91d0-124c697623c3",
   "metadata": {
    "tags": []
   },
   "outputs": [],
   "source": [
    "SEQLEN = 10\n",
    "STEP = 1"
   ]
  },
  {
   "attachments": {},
   "cell_type": "markdown",
   "id": "97dfe608-000a-46a4-b5cb-e84608757b4f",
   "metadata": {},
   "source": [
    "Construct the input set of words that leads to an output word. Note that we are considering a sequence of 10 words and trying to predict the 11th word\n"
   ]
  },
  {
   "cell_type": "code",
   "execution_count": 44,
   "id": "2f1a0752-1e80-4c00-bd24-311606840604",
   "metadata": {
    "tags": []
   },
   "outputs": [],
   "source": [
    "def get_input_and_labels(text: str, seq_length: int = SEQLEN, step: int = STEP):\n",
    "    # Initialize empty lists to store input and label sequences\n",
    "    input_words = []\n",
    "    label_words = []\n",
    "\n",
    "    # Split the input text into words\n",
    "    text_arr = text.split()\n",
    "\n",
    "    # Iterate through the text to create sequences\n",
    "    for i in range(0, nb_words - seq_length, step):\n",
    "        # Extract an input sequence of length 'seq_length'\n",
    "        x = text_arr[i:(i + seq_length)]\n",
    "        \n",
    "        # Extract the next word as the label for the input sequence\n",
    "        y = text_arr[i + seq_length]\n",
    "\n",
    "        # Append the input sequence and its corresponding label to the lists\n",
    "        input_words.append(x)\n",
    "        label_words.append(y)\n",
    "\n",
    "    return input_words, label_words\n"
   ]
  },
  {
   "cell_type": "code",
   "execution_count": 45,
   "id": "8c6371cc-71c4-4052-84b0-5c7febd4be19",
   "metadata": {
    "tags": []
   },
   "outputs": [],
   "source": [
    "# Generate input and label sequences for text generation\n",
    "input_words, label_words = get_input_and_labels(text)"
   ]
  },
  {
   "cell_type": "code",
   "execution_count": 46,
   "id": "dd4eca8f-3228-4d58-accd-aed4dfc810e9",
   "metadata": {
    "tags": []
   },
   "outputs": [
    {
     "name": "stdout",
     "output_type": "stream",
     "text": [
      "Input: the project gutenberg ebook of alice’s adventures in wonderland, by\n",
      "Output: lewis\n"
     ]
    }
   ],
   "source": [
    "# Print an example input sequence and its corresponding output label\n",
    "print(f'Input: {\" \".join(input_words[0])}\\nOutput: {label_words[0]}')\n"
   ]
  },
  {
   "attachments": {},
   "cell_type": "markdown",
   "id": "a6337ca2-b447-4159-8482-b7bd536db594",
   "metadata": {},
   "source": [
    "Construct the vectors of the input and the output datasets:"
   ]
  },
  {
   "cell_type": "code",
   "execution_count": 47,
   "id": "e8c2c532-534e-47ce-988d-8eabb7beaa1e",
   "metadata": {
    "tags": []
   },
   "outputs": [],
   "source": [
    "# Calculate the total number of unique words in the vocabulary\n",
    "total_words = len(set(words))\n",
    "\n",
    "# Initialize an array X for input sequences and an array y for labels\n",
    "X = np.zeros((len(input_words), SEQLEN, total_words), dtype=bool)\n",
    "y = np.zeros((len(input_words), total_words), dtype=bool)\n"
   ]
  },
  {
   "attachments": {},
   "cell_type": "markdown",
   "id": "28507c81-3a88-4c1b-ac83-b52a01a1d91b",
   "metadata": {},
   "source": [
    "We are creating empty arrays in the preceding step, which will be populated in the following code:"
   ]
  },
  {
   "cell_type": "code",
   "execution_count": 48,
   "id": "70ca2513-711b-42da-b337-f3a0b3633dc9",
   "metadata": {
    "tags": []
   },
   "outputs": [],
   "source": [
    "# Iterate through input sequences and labels to create one-hot encoded vectors\n",
    "for i, input_word in enumerate(input_words):\n",
    "    for j, word in enumerate(input_word):\n",
    "        # Set the corresponding position in X to 1 for the input word\n",
    "        X[i, j, word2index[word]] = 1\n",
    "        \n",
    "        # Set the corresponding position in y to 1 for the label word\n",
    "        y[i, word2index[label_words[i]]] = 1\n"
   ]
  },
  {
   "attachments": {},
   "cell_type": "markdown",
   "id": "0cc5186a-1f98-4970-9bff-7a859332dc70",
   "metadata": {},
   "source": [
    "In the preceding code, the first for loop is used to loop through all the words in the input sequence of words (10 words in input), and the second for loop is used to loop through an individual word in the chosen sequence of input words. Additionally, given that the output is a list, we do not need to update it using the second for loop (as there is no sequence of IDs)"
   ]
  },
  {
   "cell_type": "code",
   "execution_count": 49,
   "id": "2bb4c415-5f03-41b3-b769-a326c8151984",
   "metadata": {
    "tags": []
   },
   "outputs": [
    {
     "name": "stdout",
     "output_type": "stream",
     "text": [
      "Input of X: (29584, 10, 5649)\n",
      "Input of y: (29584, 5649)\n"
     ]
    }
   ],
   "source": [
    "print(f'Input of X: {X.shape}\\nInput of y: {y.shape}')"
   ]
  },
  {
   "attachments": {},
   "cell_type": "markdown",
   "id": "d7fd11a2-e619-4d2a-bb49-b737ada7956c",
   "metadata": {},
   "source": [
    "### Defining the Model"
   ]
  },
  {
   "cell_type": "code",
   "execution_count": 50,
   "id": "e0280a03-5b7d-4a93-ba4d-d0ec2c6aee2d",
   "metadata": {
    "tags": []
   },
   "outputs": [],
   "source": [
    "# Constants for text generation\n",
    "HIDDEN_SIZE = 128  # Hidden layer size\n",
    "BATCH_SIZE = 32  # Batch size\n",
    "NUM_ITERATIONS = 100  # Total training iterations\n",
    "NUM_EPOCHS_PER_ITERATION = 1  # Epochs per iteration\n",
    "NUM_PREDS_PER_EPOCH = 100  # Predictions per epoch\n"
   ]
  },
  {
   "cell_type": "code",
   "execution_count": 51,
   "id": "016337a9-2f6f-4a91-bf70-c2104887e777",
   "metadata": {
    "tags": []
   },
   "outputs": [
    {
     "name": "stdout",
     "output_type": "stream",
     "text": [
      "Model: \"sequential_1\"\n",
      "_________________________________________________________________\n",
      " Layer (type)                Output Shape              Param #   \n",
      "=================================================================\n",
      " lstm_2 (LSTM)               (None, 128)               2958336   \n",
      "                                                                 \n",
      " dense_1 (Dense)             (None, 5649)              728721    \n",
      "                                                                 \n",
      "=================================================================\n",
      "Total params: 3,687,057\n",
      "Trainable params: 3,687,057\n",
      "Non-trainable params: 0\n",
      "_________________________________________________________________\n"
     ]
    }
   ],
   "source": [
    "# Create a Sequential model\n",
    "model = Sequential()\n",
    "\n",
    "# Add an LSTM layer with specified HIDDEN_SIZE\n",
    "model.add(LSTM(HIDDEN_SIZE, return_sequences=False, input_shape=(SEQLEN, total_words)))\n",
    "\n",
    "# Add a Dense layer with 'softmax' activation function\n",
    "model.add(Dense(total_words, activation='softmax')\n",
    "\n",
    "# Compile the model using 'adam' optimizer and 'categorical_crossentropy' loss\n",
    "model.compile(optimizer='adam', loss='categorical_crossentropy')\n",
    "\n",
    "# Print the model summary to display its architecture\n",
    "model.summary()\n"
   ]
  },
  {
   "attachments": {},
   "cell_type": "markdown",
   "id": "d175afbf-5fd7-4683-9908-f3f1c84f87ff",
   "metadata": {
    "tags": []
   },
   "source": [
    "**Fit the model**. \n",
    "- Look at how the output varies over an increasing number of epochs. \n",
    "- Generate a random set of sequences of 10 words and try to predict the next possible word. \n",
    "- We are in a position to observe how our predictions are getting better over an increasing number of epochs"
   ]
  },
  {
   "cell_type": "code",
   "execution_count": 52,
   "id": "ff9b2d20-7abb-4ff7-8b5a-182544a11cc5",
   "metadata": {
    "tags": []
   },
   "outputs": [],
   "source": [
    "def check_model_output(model, preds: int, input_words, seq_length, total_words):\n",
    "    # Randomly select an input sequence for text generation\n",
    "    test_idx = np.random.randint(int(len(input_words) * 0.1)) * (-1)\n",
    "    test_words = input_words[test_idx]\n",
    "\n",
    "    for curr_pred in range(preds):\n",
    "        # Initialize an empty embedding for the current sequence\n",
    "        curr_embedding = np.zeros((1, seq_length, total_words))\n",
    "\n",
    "        # Set the corresponding position to 1 for each word in the input sequence\n",
    "        for i, ch in enumerate(test_words):\n",
    "            curr_embedding[0, i, word2index[ch]] = 1\n",
    "\n",
    "        # Predict the next word using the model\n",
    "        pred = model.predict(curr_embedding, verbose=0)[0]\n",
    "        word_pred = index2word[np.argmax(pred)]\n",
    "\n",
    "        # Print the generated prediction and the input sequence\n",
    "        print(\"=\" * 50)\n",
    "        print(f\"Prediction {curr_pred + 1} of {preds}\")\n",
    "        print(f'Generating from seed: {\" \".join(test_words)}\\nNext Word: {word_pred}')\n",
    "        print(\"=\" * 50)\n",
    "\n",
    "        # Update the input sequence with the predicted word for the next iteration\n",
    "        test_words = test_words[1:] + [word_pred]\n"
   ]
  },
  {
   "cell_type": "code",
   "execution_count": null,
   "id": "c14f7545-afb1-412a-ae50-25c5b92b3daa",
   "metadata": {
    "tags": []
   },
   "outputs": [],
   "source": [
    "for iteration in range(50):\n",
    "    # Train the model using the input sequences (X) and labels (y)\n",
    "    model.fit(X, y, batch_size=BATCH_SIZE, epochs=NUM_EPOCHS_PER_ITERATION, validation_split=0.1)\n",
    "    \n",
    "    if iteration % 10 == 0:\n",
    "        # Generate text predictions every 10 iterations\n",
    "        check_model_output(model, 5, input_words, SEQLEN, total_words)\n"
   ]
  },
  {
   "cell_type": "code",
   "execution_count": 54,
   "id": "ef015f03-b7a0-4f6c-9f19-67ec752e3ba6",
   "metadata": {
    "tags": []
   },
   "outputs": [],
   "source": [
    "def predict_next_word(model, input_text: str, seq_length, total_words, temperature=None):\n",
    "    # Initialize an empty embedding for the current sequence\n",
    "    curr_embedding = np.zeros((1, seq_length, total_words))\n",
    "    \n",
    "    for i, ch in enumerate(input_text):\n",
    "        # Set the corresponding position to 1 for each word in the input sequence\n",
    "        curr_embedding[0, i, word2index[ch]] = 1\n",
    "    \n",
    "    # Predict the next word using the model\n",
    "    pred = model.predict(curr_embedding, verbose=0)[0]\n",
    "    \n",
    "    if temperature is None:\n",
    "        # If no temperature is specified, select the word with the highest probability\n",
    "        word_pred = index2word[np.argmax(pred)]\n",
    "    else:\n",
    "        # If a temperature is specified, sample the next word based on the temperature\n",
    "        next_word_token = tf.random.categorical(tf.expand_dims(pred / temperature, 0), num_samples=1)[-1, 0].numpy()\n",
    "        word_pred = index2word[next_word_token]\n",
    "    \n",
    "    return pred, word_pred\n"
   ]
  },
  {
   "cell_type": "markdown",
   "id": "872ee59b",
   "metadata": {},
   "source": [
    "---"
   ]
  },
  {
   "attachments": {},
   "cell_type": "markdown",
   "id": "7609074f-d056-4020-b47a-c41d5986cd71",
   "metadata": {},
   "source": [
    "## The Challenge of Text Generation\n",
    "\n",
    "Language is a dynamic and ever-evolving system. The task of text generation in natural language processing faces several challenges due to the fluid nature of language. Key considerations include:\n",
    "\n",
    "- **Context Dependency:** The choice of the next word in a sentence heavily relies on the context established by previous words. The meaning and relevance of words are intricately tied to the preceding text.\n",
    "\n",
    "- **Variety of Vocabulary:** Natural language employs a vast and diverse vocabulary. Multiple words often exist with similar meanings, and the selection of one over the other can impact style and nuance.\n",
    "\n",
    "- **Non-Stationarity:** Language is not stationary; it evolves over time, reflecting shifts in culture, trends, and linguistic norms. Text generation models must adapt to these changes.\n",
    "\n",
    "---\n"
   ]
  },
  {
   "cell_type": "code",
   "execution_count": 55,
   "id": "0760f980-a1b9-4f78-898c-8dee56a291ce",
   "metadata": {
    "tags": []
   },
   "outputs": [
    {
     "name": "stdout",
     "output_type": "stream",
     "text": [
      "among the people that walk with their heads downward! the\n"
     ]
    }
   ],
   "source": [
    "test_words = input_words[-28701]\n",
    "print(' '.join(test_words))"
   ]
  },
  {
   "cell_type": "code",
   "execution_count": 56,
   "id": "0eb6f039-3935-4d8f-a323-ee44a12fdefd",
   "metadata": {
    "tags": []
   },
   "outputs": [],
   "source": [
    "# Predict the next word using the 'model' with input 'test_words'.\n",
    "logits, word_pred = predict_next_word(model, test_words, SEQLEN, total_words)\n"
   ]
  },
  {
   "cell_type": "code",
   "execution_count": 57,
   "id": "02743517-f9e0-42dd-a01b-b0dbc6fcf993",
   "metadata": {
    "tags": []
   },
   "outputs": [
    {
     "name": "stdout",
     "output_type": "stream",
     "text": [
      "Predicted word: time\n"
     ]
    }
   ],
   "source": [
    "print(f'Predicted word: {word_pred}')"
   ]
  },
  {
   "cell_type": "code",
   "execution_count": 58,
   "id": "212b2e39-0f0b-44ee-9820-0d6aa42374bb",
   "metadata": {
    "tags": []
   },
   "outputs": [],
   "source": [
    "def generate_paragraph(model, seed, words: int, temperature: int):\n",
    "    # Initialize the 'full_text' with the 'seed' content.\n",
    "    full_text = seed.copy()\n",
    "    \n",
    "    # Generate the specified number of 'words'.\n",
    "    for _ in range(words):\n",
    "        # Predict the next word based on the 'model', 'seed' input, and temperature.\n",
    "        logits, word_pred = predict_next_word(model, seed, SEQLEN, total_words, temperature=temperature)\n",
    "        \n",
    "        # Update the 'seed' for the next iteration by adding the predicted word and keeping only the last 10 words.\n",
    "        seed = (seed + [word_pred])[-10:]\n",
    "        \n",
    "        # Append the predicted word to the 'full_text'.\n",
    "        full_text = full_text + [word_pred]\n",
    "    \n",
    "    # Return the generated 'full_text'.\n",
    "    return full_text\n"
   ]
  },
  {
   "cell_type": "code",
   "execution_count": null,
   "id": "5558a777-a0d6-4390-9211-835c93f48497",
   "metadata": {
    "tags": []
   },
   "outputs": [],
   "source": [
    "# Generate and print 5 paragraphs, each with 12 words, using 'model' and 'test_words' as the initial seed.\n",
    "for _ in range(5):\n",
    "    paragraph = generate_paragraph(model, test_words, 12, None)\n",
    "    print(' '.join(paragraph))\n"
   ]
  },
  {
   "cell_type": "markdown",
   "id": "e0b7fbbf",
   "metadata": {},
   "source": [
    "---"
   ]
  },
  {
   "attachments": {},
   "cell_type": "markdown",
   "id": "c62f72c5-1302-4488-911c-aec3c23602c0",
   "metadata": {},
   "source": [
    "## **Randomness through Entropy Scaling**"
   ]
  },
  {
   "attachments": {},
   "cell_type": "markdown",
   "id": "7e10933f-1b52-42d4-bd95-15e9fb3ed99e",
   "metadata": {},
   "source": [
    "### What is Entropy in Machine Learning?"
   ]
  },
  {
   "attachments": {},
   "cell_type": "markdown",
   "id": "f2bf013c-1564-4fc8-97c0-248e8e736769",
   "metadata": {},
   "source": [
    "## Understanding Entropy in Machine Learning\n",
    "\n",
    "In machine learning, entropy serves as a measure of disorder or uncertainty within a given dataset or system. It quantifies the information content present and plays a significant role in evaluating the effectiveness of models for making accurate predictions. Entropy relies on the concept of probability and is computed using the formula:\n",
    "\n",
    "```\n",
    "Entropy = -Σ (p * log2(p))\n",
    "```\n",
    "\n",
    "Here, \"p\" represents the probability of each possible outcome.\n",
    "\n",
    "### Application in Decision Trees\n",
    "\n",
    "In the context of decision trees, entropy is a valuable tool. It aids in determining the optimal splits at each node of the tree, which, in turn, enhances the model's overall accuracy. This is particularly useful in classification tasks.\n",
    "\n",
    "### An Example: Coin Flipping\n",
    "\n",
    "To grasp the concept of entropy, consider the simple example of flipping a coin. When we flip a coin, there are two potential outcomes: heads or tails. However, due to the inherent randomness involved, it's challenging to precisely predict the outcome. In such situations where the probabilities of each outcome are equal (e.g., 50% heads and 50% tails), entropy is high.\n",
    "\n",
    "Entropy, in this context, reflects the uncertainty or disorder associated with the coin flip and serves as a fundamental concept in machine learning, guiding decisions and predictions in scenarios with varying levels of uncertainty.\n"
   ]
  },
  {
   "cell_type": "code",
   "execution_count": 60,
   "id": "50b3406d-a4f6-4d93-b95a-5c1dfaf0c16d",
   "metadata": {
    "tags": []
   },
   "outputs": [
    {
     "data": {
      "text/plain": [
       "[0.06757716, 0.0514937, 0.02583243, 0.023227636, 0.014906152]"
      ]
     },
     "execution_count": 60,
     "metadata": {},
     "output_type": "execute_result"
    }
   ],
   "source": [
    "sorted(logits, reverse=True)[:5]"
   ]
  },
  {
   "cell_type": "markdown",
   "id": "beb7b0dd",
   "metadata": {},
   "source": [
    "---"
   ]
  },
  {
   "attachments": {},
   "cell_type": "markdown",
   "id": "50c079d1-b570-4cfc-b941-753afd9ea5cc",
   "metadata": {},
   "source": [
    "## Softmax Temperature"
   ]
  },
  {
   "attachments": {},
   "cell_type": "markdown",
   "id": "74382afb-4ef7-4809-930b-c9fb598381fd",
   "metadata": {},
   "source": [
    "Temperature is a hyperparameter of LSTMs (and neural networks generally) used to control the randomness of predictions by scaling the logits before applying softmax. Temperature scaling has been widely used to improve performance for NLP tasks that utilize the Softmax decision layer.\n",
    "\n",
    "![Example Softmax Image](./images/example_softmax_1.png)\n",
    "<center> \n",
    "  <sub>Image: Example Softmax Distribution</sub> \n",
    "</center>\n",
    "\n",
    "The generated sequence will have a predictable and generic structure. And the reason is less entropy or randomness in the softmax distribution, in the sense that the likelihood of a particular word (corresponding to index 9 in the above example) getting chosen is way higher than the other words. A sequence being predictable is not problematic as long as the aim is to get realistic sequences. But if the goal is to generate a novel text or an image which has never been seen before, randomness is the holy grail.\n",
    "\n",
    "![Temperature vs No Temperature](./images/temp_vs_no_temp.png)\n",
    "<center> \n",
    "  <sub>Image: Impact of Temperature on Softmax Distribution</sub> \n",
    "</center>\n",
    "\n",
    "![Temperature Animation](./images/temp_animation.gif)\n",
    "<center> \n",
    "  <sub>Image: Temperature Animation</sub> \n",
    "</center>\n",
    "\n",
    "The distribution above approaches uniform distribution giving each word an equal probability of getting sampled out, thereby rendering a more creative look to the generated sequence. Too much creativity isn’t good either. In the extreme case, the generated text might not make sense at all. Hence, like all other hyperparameters, this needs to be tuned as well.\n",
    "\n",
    "---\n"
   ]
  },
  {
   "attachments": {},
   "cell_type": "markdown",
   "id": "006ac396-9d3a-46ca-a312-488d5773ef7d",
   "metadata": {},
   "source": [
    "## Predicting using the Temperature"
   ]
  },
  {
   "cell_type": "code",
   "execution_count": 61,
   "id": "e1db4279-8aad-48ec-a4ac-a4177a2b8a6c",
   "metadata": {
    "tags": []
   },
   "outputs": [
    {
     "name": "stdout",
     "output_type": "stream",
     "text": [
      "among the people that walk with their heads downward! the alone court,” to.” pop sits bursting particularly “just conversation. pie—” fairly,” pressing\n",
      "among the people that walk with their heads downward! the i. stole gloves, talk. non-profit trumpet rabbit! pink cartwheels, saucepan ran, forepaws\n",
      "among the people that walk with their heads downward! the hearts, them—“i professor yet invited,” states, room ridiculous (or takes “at hopeful\n",
      "among the people that walk with their heads downward! the pool complying reaching tittered he’ll guard bowed baby; nibbling flat chimneys then—i\n",
      "among the people that walk with their heads downward! the off. broken. by: hearts, doth slates, timidly life! offended!” _proves_ porpoise.” mallets\n"
     ]
    }
   ],
   "source": [
    "# Generate and print 5 paragraphs, each with 12 words, with a temperature of 10.\n",
    "for _ in range(5):\n",
    "    paragraph = generate_paragraph(model, test_words, 12, 10)\n",
    "    print(' '.join(paragraph))\n"
   ]
  },
  {
   "cell_type": "markdown",
   "id": "b16526f1",
   "metadata": {},
   "source": [
    "---"
   ]
  },
  {
   "attachments": {},
   "cell_type": "markdown",
   "id": "94b82846",
   "metadata": {},
   "source": [
    "## Conclusion\n",
    "\n",
    "In this project, we embarked on an exciting journey into sentiment analysis and text generation using many-to-one LSTMs. We began by delving into sentiment detection, where we trained an LSTM model to analyze airline sentiments based on text reviews. Through meticulous data preprocessing, the use of a bag-of-words representation, and the implementation of the many-to-one LSTM architecture, we achieved impressive accuracy in predicting sentiment labels.\n",
    "\n",
    "Shifting our focus to text generation, we harnessed the timeless literary masterpiece \"Alice's Adventures in Wonderland\" to train our many-to-one LSTMs for generating contextually relevant text. We confronted the challenges of text generation, including dealing with language variability and selecting appropriate words. To fine-tune our text generation, we employed techniques such as entropy scaling and softmax temperature control, allowing us to strike a balance between randomness and diversity in the generated text.\n",
    "\n",
    "Throughout this project, we explored a plethora of concepts and techniques, ranging from the intricacies of preprocessing textual data to the training and evaluation of LSTM models. We developed a deep understanding of sentiment analysis, recognizing its significance in deciphering sentiments within textual data. Furthermore, we delved into the subtleties of text generation, sharpening our skills in next-word prediction and crafting coherent sentences.\n",
    "\n",
    "---\n"
   ]
  },
  {
   "attachments": {},
   "cell_type": "markdown",
   "id": "4d474e81",
   "metadata": {},
   "source": [
    "## **Questions and Answers**\n",
    "\n",
    "1. **Explain the concept of a bag-of-words representation and its role in sentiment analysis.**\n",
    "\n",
    "   A bag-of-words representation is a way to turn text into a list of words without considering their order. It helps in sentiment analysis by counting how often specific words appear in a text. This count can give insights into the overall sentiment, as certain words are associated with positive or negative feelings.\n",
    "\n",
    "2. **How does the preprocessing of textual data help in improving sentiment analysis results?**\n",
    "\n",
    "   Text data preprocessing involves tasks like removing punctuation and lowercasing words. It helps by making the text more consistent and removing noise, which can lead to better sentiment analysis results.\n",
    "\n",
    "3. **Describe the steps involved in training an LSTM model for sentiment analysis.**\n",
    "\n",
    "   Training an LSTM for sentiment analysis involves three main steps: data preparation (like turning text into numbers), model building (creating the LSTM architecture), and training (teaching the model to predict sentiment based on the data).\n",
    "\n",
    "4. **What is the purpose of the softmax activation function in the output layer of the LSTM model?**\n",
    "\n",
    "   The softmax function assigns probabilities to different sentiment classes. It helps the model decide which sentiment category the input text most likely belongs to.\n",
    "\n",
    "5. **How do you evaluate the performance of an LSTM model in sentiment analysis?**\n",
    "\n",
    "   Model performance is assessed using metrics like accuracy, precision, recall, and F1-score. These metrics measure how well the model predicts sentiment labels.\n",
    "\n",
    "6. **Explain the challenges associated with text generation using many-to-one LSTMs.**\n",
    "\n",
    "   Challenges in text generation include making text sound coherent, avoiding repetition, and generating contextually relevant content. Many-to-one LSTMs must overcome these hurdles to create meaningful text.\n",
    "\n",
    "7. **What role does data preprocessing play in text generation using many-to-one LSTMs?**\n",
    "\n",
    "   Data preprocessing in text generation helps in cleaning and structuring the input text. This ensures that the model receives high-quality data, leading to better generated text.\n",
    "\n",
    "8. **Describe the steps involved in generating new text using a trained LSTM model.**\n",
    "\n",
    "   To generate text, the model starts with a seed word or phrase. It predicts the next word based on the seed and continues predicting words until the desired length is reached, creating a coherent sequence.\n",
    "\n",
    "9. **What is the purpose of entropy scaling in text generation? How does it impact the generated text?**\n",
    "\n",
    "   Entropy scaling adjusts the randomness in text generation. Higher entropy means more randomness, potentially leading to incoherent text. Lower entropy makes the text more deterministic and less creative.\n",
    "\n",
    "10. **Explain the concept of softmax temperature and its role in controlling prediction randomness.**\n",
    "\n",
    "    Softmax temperature controls the diversity of predictions. A higher temperature leads to more randomness, while a lower temperature results in more deterministic predictions.\n",
    "\n",
    "11. **How can you ensure that the generated text is contextually relevant and coherent?**\n",
    "\n",
    "    Ensuring contextually relevant and coherent text involves training on a large, diverse dataset and using techniques like attention mechanisms to help the model focus on relevant context.\n",
    "\n",
    "12. **What techniques can be used to improve the diversity and creativity of the generated text?**\n",
    "\n",
    "    Techniques like adjusting the softmax temperature, increasing the model's complexity, and fine-tuning the training process can enhance text diversity and creativity.\n",
    "\n",
    "13. **Discuss the trade-off between randomness and coherence in text generation using LSTMs.**\n",
    "\n",
    "    Balancing randomness and coherence is challenging. More randomness can lead to creative but incoherent text, while more coherence may make the text less diverse. It's a trade-off that needs careful tuning.\n",
    "\n",
    "14. **How can you handle out-of-vocabulary words when training an LSTM model for text generation?**\n",
    "\n",
    "    Handling out-of-vocabulary words involves adding them to the training data or using techniques like subword tokenization to ensure the model can generate text containing those words.\n",
    "\n",
    "15. **What are the limitations of using many-to-one LSTMs for text generation?**\n",
    "\n",
    "    Many-to-one LSTMs might struggle with capturing long-term dependencies in text. They can also produce text that is repetitive or lacks detailed context.\n",
    "\n",
    "16. **How can you handle long-term dependencies in text generation using LSTMs?**\n",
    "\n",
    "    Long-term dependencies can be addressed by using more advanced LSTM architectures, like those with attention mechanisms, or by training on more extensive datasets to capture a broader context.\n",
    "\n",
    "17. **Discuss the impact of different hyperparameters on the performance of LSTM models in text generation.**\n",
    "\n",
    "    Hyperparameters, like the learning rate and the model's complexity, greatly affect text generation. Finding the right balance is crucial for optimal performance."
   ]
  },
  {
   "cell_type": "markdown",
   "id": "a7d0d034",
   "metadata": {},
   "source": [
    "---"
   ]
  },
  {
   "cell_type": "code",
   "execution_count": null,
   "id": "306012ae-f900-4e28-963c-12cd527b9ef7",
   "metadata": {},
   "outputs": [],
   "source": []
  }
 ],
 "metadata": {
  "kernelspec": {
   "display_name": "env",
   "language": "python",
   "name": "python3"
  },
  "language_info": {
   "codemirror_mode": {
    "name": "ipython",
    "version": 3
   },
   "file_extension": ".py",
   "mimetype": "text/x-python",
   "name": "python",
   "nbconvert_exporter": "python",
   "pygments_lexer": "ipython3",
   "version": "3.8.10"
  }
 },
 "nbformat": 4,
 "nbformat_minor": 5
}
